{
 "cells": [
  {
   "cell_type": "markdown",
   "metadata": {},
   "source": [
    "# Drug Design Assistant Using SMILES\n",
    "\n",
    "Simplified molecular-input line-entry system (SMILES) is a special linear representation of a chemical compound. For example the moelcular formula of Caffeine is C8H10N4O2 while its SMILES is CN1C=NC2=C1C(=O)N(C(=O)N2C)C. SMILES retains some amount of its structural information and at the same time is easy to be processed by a machine.\n",
    "\n",
    "This project aims to make use of SMILES to assist in the drug design process. Since the structural information is retained, it means that it is possible to make some prediction of the properties of a compound based on just its SMILES string.\n",
    "\n",
    "Partition coefficient (Kow) is the ratio of concentrations of a compound between an oil phase and a water phase. Partition coefficient is a useful gauge of how a drug would be distributed within the body. The more percentage of it is found in the oil phase the more likely it is to penetrate the phospholipid bilayer of the cells. But if a drug is too lipid loving, it would not be able to dissolve easily in the aqueous region of our body.\n",
    "\n",
    "In this notebook, Kow is used as the target to be predicted from SMILES string.\n",
    "\n",
    "Data is taken from a git repository (https://github.com/isayev/ReLeaSE) which is the source code for the paper titled \"Deep Reinforcement Learning for de-novo Drug Design (https://arxiv.org/pdf/1711.10907.pdf). This notebook is not an implementation of this paper. It is only a baseline model built using TensorFlow 2.0 and their data set."
   ]
  },
  {
   "cell_type": "markdown",
   "metadata": {},
   "source": [
    "# Import"
   ]
  },
  {
   "cell_type": "code",
   "execution_count": 1,
   "metadata": {},
   "outputs": [],
   "source": [
    "import numpy as np\n",
    "import pandas as pd\n",
    "import tensorflow as tf\n",
    "from tensorflow import keras\n",
    "from tensorflow.keras.preprocessing.text import Tokenizer\n",
    "from tensorflow.keras import preprocessing\n",
    "from sklearn.model_selection import train_test_split\n",
    "import matplotlib.pyplot as plt"
   ]
  },
  {
   "cell_type": "markdown",
   "metadata": {},
   "source": [
    "# SMILES Processing"
   ]
  },
  {
   "cell_type": "markdown",
   "metadata": {},
   "source": [
    "### Tokenize SMILES by Character"
   ]
  },
  {
   "cell_type": "code",
   "execution_count": 2,
   "metadata": {},
   "outputs": [
    {
     "name": "stdout",
     "output_type": "stream",
     "text": [
      "<class 'pandas.core.frame.DataFrame'>\n",
      "RangeIndex: 14176 entries, 0 to 14175\n",
      "Data columns (total 2 columns):\n",
      "SMILES    14176 non-null object\n",
      "Kow       14176 non-null float64\n",
      "dtypes: float64(1), object(1)\n",
      "memory usage: 221.6+ KB\n"
     ]
    }
   ],
   "source": [
    "smiles_df = pd.read_csv('./data/release/logP_labels.csv')\n",
    "\n",
    "smiles_df.info()"
   ]
  },
  {
   "cell_type": "code",
   "execution_count": 3,
   "metadata": {},
   "outputs": [
    {
     "data": {
      "text/html": [
       "<div>\n",
       "<style scoped>\n",
       "    .dataframe tbody tr th:only-of-type {\n",
       "        vertical-align: middle;\n",
       "    }\n",
       "\n",
       "    .dataframe tbody tr th {\n",
       "        vertical-align: top;\n",
       "    }\n",
       "\n",
       "    .dataframe thead th {\n",
       "        text-align: right;\n",
       "    }\n",
       "</style>\n",
       "<table border=\"1\" class=\"dataframe\">\n",
       "  <thead>\n",
       "    <tr style=\"text-align: right;\">\n",
       "      <th></th>\n",
       "      <th>SMILES</th>\n",
       "      <th>Kow</th>\n",
       "    </tr>\n",
       "  </thead>\n",
       "  <tbody>\n",
       "    <tr>\n",
       "      <th>0</th>\n",
       "      <td>CC1CC2C3CCC4=CC(=O)C=CC4(C)C3(F)C(O)CC2(C)C1(O...</td>\n",
       "      <td>1.885</td>\n",
       "    </tr>\n",
       "    <tr>\n",
       "      <th>1</th>\n",
       "      <td>CC(=O)OCC(=O)C1(O)CCC2C3CCC4=CC(=O)CCC4(C)C3C(...</td>\n",
       "      <td>2.190</td>\n",
       "    </tr>\n",
       "    <tr>\n",
       "      <th>2</th>\n",
       "      <td>CC(=O)OCC(=O)C1(O)CCC2C3CCC4=CC(=O)CCC4(C)C3C(...</td>\n",
       "      <td>2.100</td>\n",
       "    </tr>\n",
       "    <tr>\n",
       "      <th>3</th>\n",
       "      <td>CCC1(c2ccccc2)C(=O)NC(=O)NC1=O</td>\n",
       "      <td>1.470</td>\n",
       "    </tr>\n",
       "    <tr>\n",
       "      <th>4</th>\n",
       "      <td>COC12C(COC(N)=O)C3=C(C(=O)C(C)=C(N)C3=O)N1CC1NC12</td>\n",
       "      <td>-0.400</td>\n",
       "    </tr>\n",
       "  </tbody>\n",
       "</table>\n",
       "</div>"
      ],
      "text/plain": [
       "                                              SMILES    Kow\n",
       "0  CC1CC2C3CCC4=CC(=O)C=CC4(C)C3(F)C(O)CC2(C)C1(O...  1.885\n",
       "1  CC(=O)OCC(=O)C1(O)CCC2C3CCC4=CC(=O)CCC4(C)C3C(...  2.190\n",
       "2  CC(=O)OCC(=O)C1(O)CCC2C3CCC4=CC(=O)CCC4(C)C3C(...  2.100\n",
       "3                     CCC1(c2ccccc2)C(=O)NC(=O)NC1=O  1.470\n",
       "4  COC12C(COC(N)=O)C3=C(C(=O)C(C)=C(N)C3=O)N1CC1NC12 -0.400"
      ]
     },
     "execution_count": 3,
     "metadata": {},
     "output_type": "execute_result"
    }
   ],
   "source": [
    "smiles_df.head()"
   ]
  },
  {
   "cell_type": "code",
   "execution_count": 4,
   "metadata": {},
   "outputs": [
    {
     "data": {
      "text/plain": [
       "167"
      ]
     },
     "execution_count": 4,
     "metadata": {},
     "output_type": "execute_result"
    }
   ],
   "source": [
    "smiles_df.SMILES.str.len().max()"
   ]
  },
  {
   "cell_type": "code",
   "execution_count": 5,
   "metadata": {},
   "outputs": [
    {
     "name": "stdout",
     "output_type": "stream",
     "text": [
      "{'c': 1, 'C': 2, '(': 3, ')': 4, 'O': 5, '1': 6, '=': 7, 'N': 8, '2': 9, 'n': 10, 'l': 11, '[': 12, ']': 13, '3': 14, '-': 15, 'S': 16, 'F': 17, '+': 18, 'H': 19, '4': 20, '#': 21, 'B': 22, 'r': 23, 'o': 24, 's': 25, 'P': 26, 'I': 27, '5': 28, '6': 29, 'i': 30, '7': 31, 'e': 32, 'A': 33}\n"
     ]
    }
   ],
   "source": [
    "tokenizer = Tokenizer(lower=False, char_level=True)\n",
    "tokenizer.fit_on_texts(smiles_df['SMILES'])\n",
    "\n",
    "print(tokenizer.word_index)"
   ]
  },
  {
   "cell_type": "code",
   "execution_count": 6,
   "metadata": {},
   "outputs": [],
   "source": [
    "token_dict = tokenizer.word_index"
   ]
  },
  {
   "cell_type": "code",
   "execution_count": 7,
   "metadata": {},
   "outputs": [
    {
     "data": {
      "text/plain": [
       "(14176,)"
      ]
     },
     "execution_count": 7,
     "metadata": {},
     "output_type": "execute_result"
    }
   ],
   "source": [
    "tokenized_smiles = smiles_df['SMILES'].apply(list)\n",
    "tokenized_smiles.shape"
   ]
  },
  {
   "cell_type": "code",
   "execution_count": 8,
   "metadata": {},
   "outputs": [
    {
     "name": "stdout",
     "output_type": "stream",
     "text": [
      "['C', 'C', '1', 'C', 'C', '2', 'C', '3', 'C', 'C', 'C', '4', '=', 'C', 'C', '(', '=', 'O', ')', 'C', '=', 'C', 'C', '4', '(', 'C', ')', 'C', '3', '(', 'F', ')', 'C', '(', 'O', ')', 'C', 'C', '2', '(', 'C', ')', 'C', '1', '(', 'O', ')', 'C', '(', '=', 'O', ')', 'C', 'O']\n"
     ]
    }
   ],
   "source": [
    "print(tokenized_smiles[0])"
   ]
  },
  {
   "cell_type": "markdown",
   "metadata": {},
   "source": [
    "### Convert SMILES Tokens to Indices"
   ]
  },
  {
   "cell_type": "code",
   "execution_count": 9,
   "metadata": {},
   "outputs": [],
   "source": [
    "def to_word_indices(smiles_tokens):\n",
    "    smiles_indices = []\n",
    "    for token in smiles_tokens:\n",
    "        smiles_indices.append(token_dict[token])\n",
    "    \n",
    "    return smiles_indices"
   ]
  },
  {
   "cell_type": "code",
   "execution_count": 10,
   "metadata": {},
   "outputs": [],
   "source": [
    "tokenized_smiles_indices = tokenized_smiles.apply(to_word_indices)"
   ]
  },
  {
   "cell_type": "code",
   "execution_count": 11,
   "metadata": {},
   "outputs": [
    {
     "name": "stdout",
     "output_type": "stream",
     "text": [
      "[2, 2, 6, 2, 2, 9, 2, 14, 2, 2, 2, 20, 7, 2, 2, 3, 7, 5, 4, 2, 7, 2, 2, 20, 3, 2, 4, 2, 14, 3, 17, 4, 2, 3, 5, 4, 2, 2, 9, 3, 2, 4, 2, 6, 3, 5, 4, 2, 3, 7, 5, 4, 2, 5]\n"
     ]
    }
   ],
   "source": [
    "print(tokenized_smiles_indices[0])"
   ]
  },
  {
   "cell_type": "markdown",
   "metadata": {},
   "source": [
    "### Pad Each Sequence & Data Split"
   ]
  },
  {
   "cell_type": "markdown",
   "metadata": {},
   "source": [
    "The longest SMILES string in this data set is found to be 167 character long. The maximum length to pad each sequence is arbitrary set to 170. This would be a point to consider in future iteration of the model."
   ]
  },
  {
   "cell_type": "code",
   "execution_count": 12,
   "metadata": {},
   "outputs": [],
   "source": [
    "maxlen = 170\n",
    "\n",
    "tokenized_smiles_indices = preprocessing.sequence.pad_sequences(tokenized_smiles_indices, maxlen=maxlen, padding='post', truncating='post')"
   ]
  },
  {
   "cell_type": "code",
   "execution_count": 13,
   "metadata": {},
   "outputs": [
    {
     "name": "stdout",
     "output_type": "stream",
     "text": [
      "[ 2  2  6  2  2  9  2 14  2  2  2 20  7  2  2  3  7  5  4  2  7  2  2 20\n",
      "  3  2  4  2 14  3 17  4  2  3  5  4  2  2  9  3  2  4  2  6  3  5  4  2\n",
      "  3  7  5  4  2  5  0  0  0  0  0  0  0  0  0  0  0  0  0  0  0  0  0  0\n",
      "  0  0  0  0  0  0  0  0  0  0  0  0  0  0  0  0  0  0  0  0  0  0  0  0\n",
      "  0  0  0  0  0  0  0  0  0  0  0  0  0  0  0  0  0  0  0  0  0  0  0  0\n",
      "  0  0  0  0  0  0  0  0  0  0  0  0  0  0  0  0  0  0  0  0  0  0  0  0\n",
      "  0  0  0  0  0  0  0  0  0  0  0  0  0  0  0  0  0  0  0  0  0  0  0  0\n",
      "  0  0]\n"
     ]
    }
   ],
   "source": [
    "print(tokenized_smiles_indices[0])"
   ]
  },
  {
   "cell_type": "code",
   "execution_count": 14,
   "metadata": {},
   "outputs": [],
   "source": [
    "x_train, x_test, y_train, y_test = train_test_split(tokenized_smiles_indices, smiles_df['Kow'], test_size=0.2, random_state=42)"
   ]
  },
  {
   "cell_type": "code",
   "execution_count": 15,
   "metadata": {},
   "outputs": [
    {
     "data": {
      "text/plain": [
       "(11340, 170)"
      ]
     },
     "execution_count": 15,
     "metadata": {},
     "output_type": "execute_result"
    }
   ],
   "source": [
    "x_train.shape"
   ]
  },
  {
   "cell_type": "code",
   "execution_count": 16,
   "metadata": {},
   "outputs": [
    {
     "data": {
      "text/plain": [
       "(2836, 170)"
      ]
     },
     "execution_count": 16,
     "metadata": {},
     "output_type": "execute_result"
    }
   ],
   "source": [
    "x_test.shape"
   ]
  },
  {
   "cell_type": "code",
   "execution_count": 17,
   "metadata": {},
   "outputs": [],
   "source": [
    "x_val = x_train[:2800]\n",
    "partial_x_train = x_train[2800:]\n",
    "y_val = y_train[:2800]\n",
    "partial_y_train = y_train[2800:]"
   ]
  },
  {
   "cell_type": "markdown",
   "metadata": {},
   "source": [
    "The data set is roughly split into train (60%), cross validation (20%) and test (20%)."
   ]
  },
  {
   "cell_type": "markdown",
   "metadata": {},
   "source": [
    "# Baseline Model"
   ]
  },
  {
   "cell_type": "markdown",
   "metadata": {},
   "source": [
    "### Epoch Tuning"
   ]
  },
  {
   "cell_type": "code",
   "execution_count": 18,
   "metadata": {},
   "outputs": [],
   "source": [
    "embedding_size = len(token_dict) + 1"
   ]
  },
  {
   "cell_type": "code",
   "execution_count": 19,
   "metadata": {},
   "outputs": [
    {
     "name": "stdout",
     "output_type": "stream",
     "text": [
      "Model: \"sequential\"\n",
      "_________________________________________________________________\n",
      "Layer (type)                 Output Shape              Param #   \n",
      "=================================================================\n",
      "embedding (Embedding)        (None, 170, 8)            272       \n",
      "_________________________________________________________________\n",
      "flatten (Flatten)            (None, 1360)              0         \n",
      "_________________________________________________________________\n",
      "dense (Dense)                (None, 16)                21776     \n",
      "_________________________________________________________________\n",
      "dense_1 (Dense)              (None, 1)                 17        \n",
      "=================================================================\n",
      "Total params: 22,065\n",
      "Trainable params: 22,065\n",
      "Non-trainable params: 0\n",
      "_________________________________________________________________\n"
     ]
    }
   ],
   "source": [
    "model = keras.Sequential()\n",
    "model.add(keras.layers.Embedding(embedding_size, 8, input_length=maxlen))\n",
    "model.add(keras.layers.Flatten())\n",
    "model.add(keras.layers.Dense(16, activation='relu'))\n",
    "model.add(keras.layers.Dense(1))\n",
    "\n",
    "model.summary()"
   ]
  },
  {
   "cell_type": "code",
   "execution_count": 20,
   "metadata": {},
   "outputs": [],
   "source": [
    "model.compile(optimizer='rmsprop', loss='mse', metrics=['mae'])"
   ]
  },
  {
   "cell_type": "code",
   "execution_count": 21,
   "metadata": {},
   "outputs": [],
   "source": [
    "history = model.fit(partial_x_train, partial_y_train, epochs=100, verbose=0, batch_size=16, validation_data=(x_val, y_val))"
   ]
  },
  {
   "cell_type": "code",
   "execution_count": 22,
   "metadata": {},
   "outputs": [
    {
     "data": {
      "text/plain": [
       "dict_keys(['loss', 'mae', 'val_loss', 'val_mae'])"
      ]
     },
     "execution_count": 22,
     "metadata": {},
     "output_type": "execute_result"
    }
   ],
   "source": [
    "history_dict = history.history\n",
    "history_dict.keys()"
   ]
  },
  {
   "cell_type": "code",
   "execution_count": 23,
   "metadata": {},
   "outputs": [
    {
     "data": {
      "image/png": "[encoded data removed]",
      "text/plain": [
       "<Figure size 432x288 with 1 Axes>"
      ]
     },
     "metadata": {
      "needs_background": "light"
     },
     "output_type": "display_data"
    }
   ],
   "source": [
    "history_dict = history.history\n",
    "loss_values = history_dict['loss']\n",
    "val_loss_values = history_dict['val_loss']\n",
    "epochs = range(1, 100 + 1)\n",
    "plt.plot(epochs, loss_values, 'bo', label='Training loss')\n",
    "plt.plot(epochs, val_loss_values, 'b', label='Validation loss')\n",
    "plt.title('Training and validation loss')\n",
    "plt.xlabel('Epochs')\n",
    "plt.ylabel('Loss')\n",
    "plt.legend()\n",
    "plt.show()"
   ]
  },
  {
   "cell_type": "code",
   "execution_count": 24,
   "metadata": {},
   "outputs": [
    {
     "data": {
      "image/png": "[encoded data removed]",
      "text/plain": [
       "<Figure size 432x288 with 1 Axes>"
      ]
     },
     "metadata": {
      "needs_background": "light"
     },
     "output_type": "display_data"
    }
   ],
   "source": [
    "plt.clf()\n",
    "mae_values = history_dict['mae']\n",
    "val_mae_values = history_dict['val_mae']\n",
    "plt.plot(epochs, mae_values, 'bo', label='Training mae')\n",
    "plt.plot(epochs, val_mae_values, 'b', label='Validation mae')\n",
    "plt.title('Training and validation mean absolute error')\n",
    "plt.xlabel('Epochs')\n",
    "plt.ylabel('mae')\n",
    "plt.legend()\n",
    "plt.show()"
   ]
  },
  {
   "cell_type": "markdown",
   "metadata": {},
   "source": [
    "### Retrain Model with Tuned Epoch"
   ]
  },
  {
   "cell_type": "markdown",
   "metadata": {},
   "source": [
    "Epoch was set to 16, as it was the point before the validation scores started to get unstable and started to increase"
   ]
  },
  {
   "cell_type": "code",
   "execution_count": 25,
   "metadata": {},
   "outputs": [
    {
     "name": "stdout",
     "output_type": "stream",
     "text": [
      "Epoch 1/16\n",
      "11340/11340 [==============================] - 1s 62us/sample - loss: 1.8197 - mae: 0.9945\n",
      "Epoch 2/16\n",
      "11340/11340 [==============================] - 1s 61us/sample - loss: 1.2159 - mae: 0.8087\n",
      "Epoch 3/16\n",
      "11340/11340 [==============================] - 1s 66us/sample - loss: 1.1328 - mae: 0.7810\n",
      "Epoch 4/16\n",
      "11340/11340 [==============================] - 1s 66us/sample - loss: 1.0582 - mae: 0.7564\n",
      "Epoch 5/16\n",
      "11340/11340 [==============================] - 1s 74us/sample - loss: 0.9907 - mae: 0.7351\n",
      "Epoch 6/16\n",
      "11340/11340 [==============================] - 1s 68us/sample - loss: 0.9297 - mae: 0.7143\n",
      "Epoch 7/16\n",
      "11340/11340 [==============================] - 1s 67us/sample - loss: 0.8810 - mae: 0.6952\n",
      "Epoch 8/16\n",
      "11340/11340 [==============================] - 1s 69us/sample - loss: 0.8320 - mae: 0.6769\n",
      "Epoch 9/16\n",
      "11340/11340 [==============================] - 1s 74us/sample - loss: 0.7822 - mae: 0.6566\n",
      "Epoch 10/16\n",
      "11340/11340 [==============================] - 1s 74us/sample - loss: 0.7424 - mae: 0.6410\n",
      "Epoch 11/16\n",
      "11340/11340 [==============================] - 1s 74us/sample - loss: 0.7138 - mae: 0.6268\n",
      "Epoch 12/16\n",
      "11340/11340 [==============================] - 1s 73us/sample - loss: 0.6797 - mae: 0.6149\n",
      "Epoch 13/16\n",
      "11340/11340 [==============================] - 1s 74us/sample - loss: 0.6494 - mae: 0.6044\n",
      "Epoch 14/16\n",
      "11340/11340 [==============================] - 1s 74us/sample - loss: 0.6265 - mae: 0.5943\n",
      "Epoch 15/16\n",
      "11340/11340 [==============================] - 1s 74us/sample - loss: 0.6077 - mae: 0.5837\n",
      "Epoch 16/16\n",
      "11340/11340 [==============================] - 1s 57us/sample - loss: 0.5858 - mae: 0.5731\n"
     ]
    }
   ],
   "source": [
    "model = keras.Sequential()\n",
    "model.add(keras.layers.Embedding(embedding_size, 8, input_length=maxlen))\n",
    "model.add(keras.layers.Flatten())\n",
    "model.add(keras.layers.Dense(16, activation='relu'))\n",
    "model.add(keras.layers.Dense(1))\n",
    "model.compile(optimizer='rmsprop', loss='mse', metrics=['mae'])\n",
    "\n",
    "history = model.fit(x_train, y_train, epochs=16, batch_size=16)"
   ]
  },
  {
   "cell_type": "markdown",
   "metadata": {},
   "source": [
    "### Evaluate Model"
   ]
  },
  {
   "cell_type": "code",
   "execution_count": 26,
   "metadata": {},
   "outputs": [
    {
     "name": "stdout",
     "output_type": "stream",
     "text": [
      "2836/2836 [==============================] - 0s 25us/sample - loss: 0.8221 - mae: 0.6730\n"
     ]
    }
   ],
   "source": [
    "test_mse_score, test_mae_score = model.evaluate(x_test, y_test)"
   ]
  },
  {
   "cell_type": "code",
   "execution_count": 27,
   "metadata": {},
   "outputs": [
    {
     "data": {
      "text/plain": [
       "0.8221309496922621"
      ]
     },
     "execution_count": 27,
     "metadata": {},
     "output_type": "execute_result"
    }
   ],
   "source": [
    "test_mse_score"
   ]
  },
  {
   "cell_type": "code",
   "execution_count": 28,
   "metadata": {},
   "outputs": [
    {
     "data": {
      "text/plain": [
       "0.673018"
      ]
     },
     "execution_count": 28,
     "metadata": {},
     "output_type": "execute_result"
    }
   ],
   "source": [
    "test_mae_score"
   ]
  },
  {
   "cell_type": "code",
   "execution_count": 29,
   "metadata": {},
   "outputs": [
    {
     "data": {
      "text/plain": [
       "11.29"
      ]
     },
     "execution_count": 29,
     "metadata": {},
     "output_type": "execute_result"
    }
   ],
   "source": [
    "smiles_df['Kow'].max()"
   ]
  },
  {
   "cell_type": "code",
   "execution_count": 30,
   "metadata": {},
   "outputs": [
    {
     "data": {
      "text/plain": [
       "-5.4"
      ]
     },
     "execution_count": 30,
     "metadata": {},
     "output_type": "execute_result"
    }
   ],
   "source": [
    "smiles_df['Kow'].min()"
   ]
  },
  {
   "cell_type": "markdown",
   "metadata": {},
   "source": [
    "The range of the partition coefficient in this data set is between -5.4 to 11.29 and the baseline model have a mean absolute error of about 0.67."
   ]
  },
  {
   "cell_type": "markdown",
   "metadata": {},
   "source": [
    "### Future Work"
   ]
  },
  {
   "cell_type": "markdown",
   "metadata": {},
   "source": [
    "1) Explore other model architecture to beat the baseline.\n",
    "<br>\n",
    "2) Expand to other prediction targets.\n",
    "<br>\n",
    "3) Deploy the model."
   ]
  },
  {
   "cell_type": "code",
   "execution_count": null,
   "metadata": {},
   "outputs": [],
   "source": []
  }
 ],
 "metadata": {
  "kernelspec": {
   "display_name": "Python 3",
   "language": "python",
   "name": "python3"
  },
  "language_info": {
   "codemirror_mode": {
    "name": "ipython",
    "version": 3
   },
   "file_extension": ".py",
   "mimetype": "text/x-python",
   "name": "python",
   "nbconvert_exporter": "python",
   "pygments_lexer": "ipython3",
   "version": "3.6.8"
  }
 },
 "nbformat": 4,
 "nbformat_minor": 2
}
