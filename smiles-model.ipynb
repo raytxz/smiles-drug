{
 "cells": [
  {
   "cell_type": "markdown",
   "metadata": {},
   "source": [
    "# Drug Design Assistant Using SMILES\n",
    "\n",
    "Simplified molecular-input line-entry system (SMILES) is a special linear representation of a chemical compound. For example the moelcular formula of Caffeine is C8H10N4O2 while its SMILES is CN1C=NC2=C1C(=O)N(C(=O)N2C)C. SMILES retains some amount of its structural information and at the same time is easy to be processed by a machine.\n",
    "\n",
    "This project aims to make use of SMILES to assist in the drug design process. Since the structural information is retained, it means that it is possible to make some prediction of the properties of a compound based on just its SMILES string.\n",
    "\n",
    "Partition coefficient (Kow) is the ratio of concentrations of a compound between an oil phase and a water phase. Partition coefficient is a useful gauge of how a drug would be distributed within the body. The more percentage of it is found in the oil phase the more likely it is to penetrate the phospholipid bilayer of the cells. But if a drug is too lipid loving, it would not be able to dissolve easily in the aqueous region of our body.\n",
    "\n",
    "In this notebook, Kow is used as the target to be predicted from SMILES string.\n",
    "\n",
    "Data is taken from a git repository (https://github.com/isayev/ReLeaSE) which is the source code for the paper titled \"Deep Reinforcement Learning for de-novo Drug Design (https://arxiv.org/pdf/1711.10907.pdf). This notebook is not an implementation of this paper. It is only a baseline model built using TensorFlow 2.0 and their data set."
   ]
  },
  {
   "cell_type": "markdown",
   "metadata": {},
   "source": [
    "# Import"
   ]
  },
  {
   "cell_type": "code",
   "execution_count": 1,
   "metadata": {},
   "outputs": [],
   "source": [
    "import numpy as np\n",
    "import pandas as pd\n",
    "import tensorflow as tf\n",
    "from tensorflow import keras\n",
    "from tensorflow.keras.preprocessing.text import Tokenizer\n",
    "from tensorflow.keras import preprocessing\n",
    "from sklearn.model_selection import train_test_split\n",
    "import matplotlib.pyplot as plt"
   ]
  },
  {
   "cell_type": "markdown",
   "metadata": {},
   "source": [
    "# SMILES Processing"
   ]
  },
  {
   "cell_type": "markdown",
   "metadata": {},
   "source": [
    "### Tokenize SMILES by Character"
   ]
  },
  {
   "cell_type": "code",
   "execution_count": 2,
   "metadata": {},
   "outputs": [
    {
     "name": "stdout",
     "output_type": "stream",
     "text": [
      "<class 'pandas.core.frame.DataFrame'>\n",
      "RangeIndex: 14176 entries, 0 to 14175\n",
      "Data columns (total 2 columns):\n",
      "SMILES    14176 non-null object\n",
      "Kow       14176 non-null float64\n",
      "dtypes: float64(1), object(1)\n",
      "memory usage: 221.6+ KB\n"
     ]
    }
   ],
   "source": [
    "smiles_df = pd.read_csv('./data/release/logP_labels.csv')\n",
    "\n",
    "smiles_df.info()"
   ]
  },
  {
   "cell_type": "code",
   "execution_count": 3,
   "metadata": {},
   "outputs": [
    {
     "data": {
      "text/html": [
       "<div>\n",
       "<style scoped>\n",
       "    .dataframe tbody tr th:only-of-type {\n",
       "        vertical-align: middle;\n",
       "    }\n",
       "\n",
       "    .dataframe tbody tr th {\n",
       "        vertical-align: top;\n",
       "    }\n",
       "\n",
       "    .dataframe thead th {\n",
       "        text-align: right;\n",
       "    }\n",
       "</style>\n",
       "<table border=\"1\" class=\"dataframe\">\n",
       "  <thead>\n",
       "    <tr style=\"text-align: right;\">\n",
       "      <th></th>\n",
       "      <th>SMILES</th>\n",
       "      <th>Kow</th>\n",
       "    </tr>\n",
       "  </thead>\n",
       "  <tbody>\n",
       "    <tr>\n",
       "      <th>0</th>\n",
       "      <td>CC1CC2C3CCC4=CC(=O)C=CC4(C)C3(F)C(O)CC2(C)C1(O...</td>\n",
       "      <td>1.885</td>\n",
       "    </tr>\n",
       "    <tr>\n",
       "      <th>1</th>\n",
       "      <td>CC(=O)OCC(=O)C1(O)CCC2C3CCC4=CC(=O)CCC4(C)C3C(...</td>\n",
       "      <td>2.190</td>\n",
       "    </tr>\n",
       "    <tr>\n",
       "      <th>2</th>\n",
       "      <td>CC(=O)OCC(=O)C1(O)CCC2C3CCC4=CC(=O)CCC4(C)C3C(...</td>\n",
       "      <td>2.100</td>\n",
       "    </tr>\n",
       "    <tr>\n",
       "      <th>3</th>\n",
       "      <td>CCC1(c2ccccc2)C(=O)NC(=O)NC1=O</td>\n",
       "      <td>1.470</td>\n",
       "    </tr>\n",
       "    <tr>\n",
       "      <th>4</th>\n",
       "      <td>COC12C(COC(N)=O)C3=C(C(=O)C(C)=C(N)C3=O)N1CC1NC12</td>\n",
       "      <td>-0.400</td>\n",
       "    </tr>\n",
       "  </tbody>\n",
       "</table>\n",
       "</div>"
      ],
      "text/plain": [
       "                                              SMILES    Kow\n",
       "0  CC1CC2C3CCC4=CC(=O)C=CC4(C)C3(F)C(O)CC2(C)C1(O...  1.885\n",
       "1  CC(=O)OCC(=O)C1(O)CCC2C3CCC4=CC(=O)CCC4(C)C3C(...  2.190\n",
       "2  CC(=O)OCC(=O)C1(O)CCC2C3CCC4=CC(=O)CCC4(C)C3C(...  2.100\n",
       "3                     CCC1(c2ccccc2)C(=O)NC(=O)NC1=O  1.470\n",
       "4  COC12C(COC(N)=O)C3=C(C(=O)C(C)=C(N)C3=O)N1CC1NC12 -0.400"
      ]
     },
     "execution_count": 3,
     "metadata": {},
     "output_type": "execute_result"
    }
   ],
   "source": [
    "smiles_df.head()"
   ]
  },
  {
   "cell_type": "code",
   "execution_count": 4,
   "metadata": {},
   "outputs": [
    {
     "data": {
      "text/plain": [
       "167"
      ]
     },
     "execution_count": 4,
     "metadata": {},
     "output_type": "execute_result"
    }
   ],
   "source": [
    "smiles_df.SMILES.str.len().max()"
   ]
  },
  {
   "cell_type": "code",
   "execution_count": 5,
   "metadata": {},
   "outputs": [
    {
     "name": "stdout",
     "output_type": "stream",
     "text": [
      "{'c': 1, 'C': 2, '(': 3, ')': 4, 'O': 5, '1': 6, '=': 7, 'N': 8, '2': 9, 'n': 10, 'l': 11, '[': 12, ']': 13, '3': 14, '-': 15, 'S': 16, 'F': 17, '+': 18, 'H': 19, '4': 20, '#': 21, 'B': 22, 'r': 23, 'o': 24, 's': 25, 'P': 26, 'I': 27, '5': 28, '6': 29, 'i': 30, '7': 31, 'e': 32, 'A': 33}\n"
     ]
    }
   ],
   "source": [
    "tokenizer = Tokenizer(lower=False, char_level=True)\n",
    "tokenizer.fit_on_texts(smiles_df['SMILES'])\n",
    "\n",
    "print(tokenizer.word_index)"
   ]
  },
  {
   "cell_type": "code",
   "execution_count": 6,
   "metadata": {},
   "outputs": [],
   "source": [
    "token_dict = tokenizer.word_index"
   ]
  },
  {
   "cell_type": "code",
   "execution_count": 7,
   "metadata": {},
   "outputs": [
    {
     "data": {
      "text/plain": [
       "(14176,)"
      ]
     },
     "execution_count": 7,
     "metadata": {},
     "output_type": "execute_result"
    }
   ],
   "source": [
    "tokenized_smiles = smiles_df['SMILES'].apply(list)\n",
    "tokenized_smiles.shape"
   ]
  },
  {
   "cell_type": "code",
   "execution_count": 8,
   "metadata": {},
   "outputs": [
    {
     "name": "stdout",
     "output_type": "stream",
     "text": [
      "['C', 'C', '1', 'C', 'C', '2', 'C', '3', 'C', 'C', 'C', '4', '=', 'C', 'C', '(', '=', 'O', ')', 'C', '=', 'C', 'C', '4', '(', 'C', ')', 'C', '3', '(', 'F', ')', 'C', '(', 'O', ')', 'C', 'C', '2', '(', 'C', ')', 'C', '1', '(', 'O', ')', 'C', '(', '=', 'O', ')', 'C', 'O']\n"
     ]
    }
   ],
   "source": [
    "print(tokenized_smiles[0])"
   ]
  },
  {
   "cell_type": "markdown",
   "metadata": {},
   "source": [
    "### Convert SMILES Tokens to Indices"
   ]
  },
  {
   "cell_type": "code",
   "execution_count": 9,
   "metadata": {},
   "outputs": [],
   "source": [
    "def to_word_indices(smiles_tokens):\n",
    "    smiles_indices = []\n",
    "    for token in smiles_tokens:\n",
    "        smiles_indices.append(token_dict[token])\n",
    "    \n",
    "    return smiles_indices"
   ]
  },
  {
   "cell_type": "code",
   "execution_count": 10,
   "metadata": {},
   "outputs": [],
   "source": [
    "tokenized_smiles_indices = tokenized_smiles.apply(to_word_indices)"
   ]
  },
  {
   "cell_type": "code",
   "execution_count": 11,
   "metadata": {},
   "outputs": [
    {
     "name": "stdout",
     "output_type": "stream",
     "text": [
      "[2, 2, 6, 2, 2, 9, 2, 14, 2, 2, 2, 20, 7, 2, 2, 3, 7, 5, 4, 2, 7, 2, 2, 20, 3, 2, 4, 2, 14, 3, 17, 4, 2, 3, 5, 4, 2, 2, 9, 3, 2, 4, 2, 6, 3, 5, 4, 2, 3, 7, 5, 4, 2, 5]\n"
     ]
    }
   ],
   "source": [
    "print(tokenized_smiles_indices[0])"
   ]
  },
  {
   "cell_type": "markdown",
   "metadata": {},
   "source": [
    "### Pad Each Sequence & Data Split"
   ]
  },
  {
   "cell_type": "markdown",
   "metadata": {},
   "source": [
    "The longest SMILES string in this data set is found to be 167 character long. The maximum length to pad each sequence is arbitrary set to 170. This would be a point to consider in future iteration of the model."
   ]
  },
  {
   "cell_type": "code",
   "execution_count": 12,
   "metadata": {},
   "outputs": [],
   "source": [
    "maxlen = 170\n",
    "\n",
    "tokenized_smiles_indices = preprocessing.sequence.pad_sequences(tokenized_smiles_indices, maxlen=maxlen, padding='post', truncating='post')"
   ]
  },
  {
   "cell_type": "code",
   "execution_count": 13,
   "metadata": {},
   "outputs": [
    {
     "name": "stdout",
     "output_type": "stream",
     "text": [
      "[ 2  2  6  2  2  9  2 14  2  2  2 20  7  2  2  3  7  5  4  2  7  2  2 20\n",
      "  3  2  4  2 14  3 17  4  2  3  5  4  2  2  9  3  2  4  2  6  3  5  4  2\n",
      "  3  7  5  4  2  5  0  0  0  0  0  0  0  0  0  0  0  0  0  0  0  0  0  0\n",
      "  0  0  0  0  0  0  0  0  0  0  0  0  0  0  0  0  0  0  0  0  0  0  0  0\n",
      "  0  0  0  0  0  0  0  0  0  0  0  0  0  0  0  0  0  0  0  0  0  0  0  0\n",
      "  0  0  0  0  0  0  0  0  0  0  0  0  0  0  0  0  0  0  0  0  0  0  0  0\n",
      "  0  0  0  0  0  0  0  0  0  0  0  0  0  0  0  0  0  0  0  0  0  0  0  0\n",
      "  0  0]\n"
     ]
    }
   ],
   "source": [
    "print(tokenized_smiles_indices[0])"
   ]
  },
  {
   "cell_type": "code",
   "execution_count": 14,
   "metadata": {},
   "outputs": [],
   "source": [
    "x_train, x_test, y_train, y_test = train_test_split(tokenized_smiles_indices, smiles_df['Kow'], test_size=0.2, random_state=42)"
   ]
  },
  {
   "cell_type": "code",
   "execution_count": 15,
   "metadata": {},
   "outputs": [
    {
     "data": {
      "text/plain": [
       "(11340, 170)"
      ]
     },
     "execution_count": 15,
     "metadata": {},
     "output_type": "execute_result"
    }
   ],
   "source": [
    "x_train.shape"
   ]
  },
  {
   "cell_type": "code",
   "execution_count": 16,
   "metadata": {},
   "outputs": [
    {
     "data": {
      "text/plain": [
       "(2836, 170)"
      ]
     },
     "execution_count": 16,
     "metadata": {},
     "output_type": "execute_result"
    }
   ],
   "source": [
    "x_test.shape"
   ]
  },
  {
   "cell_type": "code",
   "execution_count": 17,
   "metadata": {},
   "outputs": [],
   "source": [
    "x_val = x_train[:2800]\n",
    "partial_x_train = x_train[2800:]\n",
    "y_val = y_train[:2800]\n",
    "partial_y_train = y_train[2800:]"
   ]
  },
  {
   "cell_type": "markdown",
   "metadata": {},
   "source": [
    "The data set is roughly split into train (60%), cross validation (20%) and test (20%)."
   ]
  },
  {
   "cell_type": "markdown",
   "metadata": {},
   "source": [
    "# Baseline Model"
   ]
  },
  {
   "cell_type": "markdown",
   "metadata": {},
   "source": [
    "### Epoch Tuning"
   ]
  },
  {
   "cell_type": "code",
   "execution_count": 18,
   "metadata": {},
   "outputs": [],
   "source": [
    "embedding_size = len(token_dict) + 1"
   ]
  },
  {
   "cell_type": "code",
   "execution_count": 19,
   "metadata": {},
   "outputs": [
    {
     "name": "stdout",
     "output_type": "stream",
     "text": [
      "Model: \"sequential\"\n",
      "_________________________________________________________________\n",
      "Layer (type)                 Output Shape              Param #   \n",
      "=================================================================\n",
      "embedding (Embedding)        (None, 170, 8)            272       \n",
      "_________________________________________________________________\n",
      "flatten (Flatten)            (None, 1360)              0         \n",
      "_________________________________________________________________\n",
      "dense (Dense)                (None, 16)                21776     \n",
      "_________________________________________________________________\n",
      "dense_1 (Dense)              (None, 1)                 17        \n",
      "=================================================================\n",
      "Total params: 22,065\n",
      "Trainable params: 22,065\n",
      "Non-trainable params: 0\n",
      "_________________________________________________________________\n"
     ]
    }
   ],
   "source": [
    "model = keras.Sequential()\n",
    "model.add(keras.layers.Embedding(embedding_size, 8, input_length=maxlen))\n",
    "model.add(keras.layers.Flatten())\n",
    "model.add(keras.layers.Dense(16, activation='relu'))\n",
    "model.add(keras.layers.Dense(1))\n",
    "\n",
    "model.summary()"
   ]
  },
  {
   "cell_type": "code",
   "execution_count": 20,
   "metadata": {},
   "outputs": [],
   "source": [
    "model.compile(optimizer='rmsprop', loss='mse', metrics=['mae'])"
   ]
  },
  {
   "cell_type": "code",
   "execution_count": 21,
   "metadata": {},
   "outputs": [
    {
     "name": "stdout",
     "output_type": "stream",
     "text": [
      "Train on 8540 samples, validate on 2800 samples\n",
      "Epoch 1/100\n",
      "8540/8540 [==============================] - 1s 87us/sample - loss: 2.1441 - mae: 1.0778 - val_loss: 1.3317 - val_mae: 0.8511\n",
      "Epoch 2/100\n",
      "8540/8540 [==============================] - 1s 69us/sample - loss: 1.2919 - mae: 0.8285 - val_loss: 1.2138 - val_mae: 0.8210\n",
      "Epoch 3/100\n",
      "8540/8540 [==============================] - 1s 67us/sample - loss: 1.1925 - mae: 0.7969 - val_loss: 1.1257 - val_mae: 0.7887\n",
      "Epoch 4/100\n",
      "8540/8540 [==============================] - 1s 67us/sample - loss: 1.1191 - mae: 0.7738 - val_loss: 1.0842 - val_mae: 0.7779\n",
      "Epoch 5/100\n",
      "8540/8540 [==============================] - 1s 67us/sample - loss: 1.0506 - mae: 0.7515 - val_loss: 1.0613 - val_mae: 0.7693\n",
      "Epoch 6/100\n",
      "8540/8540 [==============================] - 1s 68us/sample - loss: 0.9955 - mae: 0.7348 - val_loss: 1.0324 - val_mae: 0.7598\n",
      "Epoch 7/100\n",
      "8540/8540 [==============================] - 1s 66us/sample - loss: 0.9364 - mae: 0.7138 - val_loss: 1.0548 - val_mae: 0.7730\n",
      "Epoch 8/100\n",
      "8540/8540 [==============================] - 1s 70us/sample - loss: 0.8867 - mae: 0.6948 - val_loss: 1.0267 - val_mae: 0.7658\n",
      "Epoch 9/100\n",
      "8540/8540 [==============================] - 1s 68us/sample - loss: 0.8379 - mae: 0.6773 - val_loss: 0.9801 - val_mae: 0.7367\n",
      "Epoch 10/100\n",
      "8540/8540 [==============================] - 1s 70us/sample - loss: 0.7932 - mae: 0.6605 - val_loss: 1.0508 - val_mae: 0.7680\n",
      "Epoch 11/100\n",
      "8540/8540 [==============================] - 1s 72us/sample - loss: 0.7531 - mae: 0.6437 - val_loss: 0.9514 - val_mae: 0.7238\n",
      "Epoch 12/100\n",
      "8540/8540 [==============================] - 1s 65us/sample - loss: 0.7139 - mae: 0.6286 - val_loss: 0.9482 - val_mae: 0.7259\n",
      "Epoch 13/100\n",
      "8540/8540 [==============================] - 1s 66us/sample - loss: 0.6819 - mae: 0.6120 - val_loss: 0.9452 - val_mae: 0.7150\n",
      "Epoch 14/100\n",
      "8540/8540 [==============================] - 1s 71us/sample - loss: 0.6482 - mae: 0.5990 - val_loss: 0.9585 - val_mae: 0.7205\n",
      "Epoch 15/100\n",
      "8540/8540 [==============================] - 1s 70us/sample - loss: 0.6201 - mae: 0.5891 - val_loss: 0.9202 - val_mae: 0.7108\n",
      "Epoch 16/100\n",
      "8540/8540 [==============================] - 1s 66us/sample - loss: 0.5928 - mae: 0.5733 - val_loss: 0.9136 - val_mae: 0.7103\n",
      "Epoch 17/100\n",
      "8540/8540 [==============================] - 1s 67us/sample - loss: 0.5721 - mae: 0.5678 - val_loss: 0.9089 - val_mae: 0.7041\n",
      "Epoch 18/100\n",
      "8540/8540 [==============================] - 1s 68us/sample - loss: 0.5469 - mae: 0.5546 - val_loss: 0.9152 - val_mae: 0.7099\n",
      "Epoch 19/100\n",
      "8540/8540 [==============================] - 1s 70us/sample - loss: 0.5278 - mae: 0.5417 - val_loss: 0.8892 - val_mae: 0.6974\n",
      "Epoch 20/100\n",
      "8540/8540 [==============================] - 1s 68us/sample - loss: 0.5112 - mae: 0.5368 - val_loss: 0.8877 - val_mae: 0.6999\n",
      "Epoch 21/100\n",
      "8540/8540 [==============================] - 1s 65us/sample - loss: 0.4933 - mae: 0.5258 - val_loss: 0.8764 - val_mae: 0.6936\n",
      "Epoch 22/100\n",
      "8540/8540 [==============================] - 1s 68us/sample - loss: 0.4783 - mae: 0.5191 - val_loss: 0.8849 - val_mae: 0.6944\n",
      "Epoch 23/100\n",
      "8540/8540 [==============================] - 1s 67us/sample - loss: 0.4656 - mae: 0.5139 - val_loss: 0.9013 - val_mae: 0.7022\n",
      "Epoch 24/100\n",
      "8540/8540 [==============================] - 1s 68us/sample - loss: 0.4514 - mae: 0.5053 - val_loss: 0.9084 - val_mae: 0.7151\n",
      "Epoch 25/100\n",
      "8540/8540 [==============================] - 1s 67us/sample - loss: 0.4400 - mae: 0.4983 - val_loss: 0.8938 - val_mae: 0.6941\n",
      "Epoch 26/100\n",
      "8540/8540 [==============================] - 1s 65us/sample - loss: 0.4290 - mae: 0.4911 - val_loss: 0.8828 - val_mae: 0.6967\n",
      "Epoch 27/100\n",
      "8540/8540 [==============================] - 1s 67us/sample - loss: 0.4159 - mae: 0.4853 - val_loss: 0.8909 - val_mae: 0.6987\n",
      "Epoch 28/100\n",
      "8540/8540 [==============================] - 1s 69us/sample - loss: 0.4071 - mae: 0.4786 - val_loss: 0.8976 - val_mae: 0.6986\n",
      "Epoch 29/100\n",
      "8540/8540 [==============================] - 1s 66us/sample - loss: 0.3951 - mae: 0.4736 - val_loss: 0.9023 - val_mae: 0.7005\n",
      "Epoch 30/100\n",
      "8540/8540 [==============================] - 1s 66us/sample - loss: 0.3876 - mae: 0.4674 - val_loss: 0.9158 - val_mae: 0.7071\n",
      "Epoch 31/100\n",
      "8540/8540 [==============================] - 1s 66us/sample - loss: 0.3843 - mae: 0.4675 - val_loss: 0.9000 - val_mae: 0.7009\n",
      "Epoch 32/100\n",
      "8540/8540 [==============================] - 1s 66us/sample - loss: 0.3708 - mae: 0.4577 - val_loss: 0.9075 - val_mae: 0.7035\n",
      "Epoch 33/100\n",
      "8540/8540 [==============================] - 1s 66us/sample - loss: 0.3656 - mae: 0.4562 - val_loss: 0.9198 - val_mae: 0.7080\n",
      "Epoch 34/100\n",
      "8540/8540 [==============================] - 1s 67us/sample - loss: 0.3594 - mae: 0.4501 - val_loss: 0.9132 - val_mae: 0.7054\n",
      "Epoch 35/100\n",
      "8540/8540 [==============================] - 1s 66us/sample - loss: 0.3553 - mae: 0.4465 - val_loss: 0.9184 - val_mae: 0.7079\n",
      "Epoch 36/100\n",
      "8540/8540 [==============================] - 1s 66us/sample - loss: 0.3458 - mae: 0.4428 - val_loss: 0.9361 - val_mae: 0.7104\n",
      "Epoch 37/100\n",
      "8540/8540 [==============================] - 1s 66us/sample - loss: 0.3414 - mae: 0.4405 - val_loss: 0.9414 - val_mae: 0.7154\n",
      "Epoch 38/100\n",
      "8540/8540 [==============================] - 1s 67us/sample - loss: 0.3360 - mae: 0.4382 - val_loss: 0.9393 - val_mae: 0.7167\n",
      "Epoch 39/100\n",
      "8540/8540 [==============================] - 1s 67us/sample - loss: 0.3298 - mae: 0.4349 - val_loss: 0.9427 - val_mae: 0.7193\n",
      "Epoch 40/100\n",
      "8540/8540 [==============================] - 1s 66us/sample - loss: 0.3265 - mae: 0.4313 - val_loss: 0.9404 - val_mae: 0.7146\n",
      "Epoch 41/100\n",
      "8540/8540 [==============================] - 1s 67us/sample - loss: 0.3227 - mae: 0.4300 - val_loss: 0.9406 - val_mae: 0.7171\n",
      "Epoch 42/100\n",
      "8540/8540 [==============================] - 1s 67us/sample - loss: 0.3168 - mae: 0.4251 - val_loss: 0.9285 - val_mae: 0.7130\n",
      "Epoch 43/100\n",
      "8540/8540 [==============================] - 1s 68us/sample - loss: 0.3118 - mae: 0.4223 - val_loss: 0.9506 - val_mae: 0.7193\n",
      "Epoch 44/100\n",
      "8540/8540 [==============================] - 1s 74us/sample - loss: 0.3097 - mae: 0.4192 - val_loss: 0.9377 - val_mae: 0.7132\n",
      "Epoch 45/100\n",
      "8540/8540 [==============================] - 1s 68us/sample - loss: 0.3051 - mae: 0.4180 - val_loss: 0.9175 - val_mae: 0.7065\n",
      "Epoch 46/100\n",
      "8540/8540 [==============================] - 1s 70us/sample - loss: 0.3011 - mae: 0.4131 - val_loss: 0.9326 - val_mae: 0.7116\n",
      "Epoch 47/100\n",
      "8540/8540 [==============================] - 1s 67us/sample - loss: 0.2985 - mae: 0.4117 - val_loss: 0.9572 - val_mae: 0.7227\n",
      "Epoch 48/100\n",
      "8540/8540 [==============================] - 1s 67us/sample - loss: 0.2953 - mae: 0.4112 - val_loss: 0.9311 - val_mae: 0.7123\n",
      "Epoch 49/100\n",
      "8540/8540 [==============================] - 1s 65us/sample - loss: 0.2912 - mae: 0.4074 - val_loss: 0.9812 - val_mae: 0.7349\n",
      "Epoch 50/100\n",
      "8540/8540 [==============================] - 1s 65us/sample - loss: 0.2878 - mae: 0.4060 - val_loss: 0.9543 - val_mae: 0.7199\n",
      "Epoch 51/100\n",
      "8540/8540 [==============================] - 1s 69us/sample - loss: 0.2843 - mae: 0.4018 - val_loss: 0.9604 - val_mae: 0.7250\n",
      "Epoch 52/100\n",
      "8540/8540 [==============================] - 1s 68us/sample - loss: 0.2834 - mae: 0.4007 - val_loss: 0.9709 - val_mae: 0.7231\n",
      "Epoch 53/100\n",
      "8540/8540 [==============================] - 1s 66us/sample - loss: 0.2815 - mae: 0.4006 - val_loss: 0.9753 - val_mae: 0.7292\n",
      "Epoch 54/100\n",
      "8540/8540 [==============================] - 1s 91us/sample - loss: 0.2801 - mae: 0.3985 - val_loss: 0.9552 - val_mae: 0.7181\n",
      "Epoch 55/100\n",
      "8540/8540 [==============================] - 1s 67us/sample - loss: 0.2733 - mae: 0.3938 - val_loss: 0.9678 - val_mae: 0.7279\n",
      "Epoch 56/100\n",
      "8540/8540 [==============================] - 1s 67us/sample - loss: 0.2715 - mae: 0.3932 - val_loss: 1.0166 - val_mae: 0.7471\n",
      "Epoch 57/100\n",
      "8540/8540 [==============================] - 1s 68us/sample - loss: 0.2707 - mae: 0.3914 - val_loss: 0.9914 - val_mae: 0.7384\n",
      "Epoch 58/100\n",
      "8540/8540 [==============================] - 1s 67us/sample - loss: 0.2692 - mae: 0.3920 - val_loss: 0.9977 - val_mae: 0.7402\n",
      "Epoch 59/100\n",
      "8540/8540 [==============================] - 1s 66us/sample - loss: 0.2666 - mae: 0.3880 - val_loss: 0.9715 - val_mae: 0.7273\n",
      "Epoch 60/100\n",
      "8540/8540 [==============================] - 1s 67us/sample - loss: 0.2662 - mae: 0.3881 - val_loss: 0.9785 - val_mae: 0.7292\n",
      "Epoch 61/100\n",
      "8540/8540 [==============================] - 1s 68us/sample - loss: 0.2634 - mae: 0.3862 - val_loss: 0.9720 - val_mae: 0.7272\n",
      "Epoch 62/100\n",
      "8540/8540 [==============================] - 1s 67us/sample - loss: 0.2586 - mae: 0.3829 - val_loss: 0.9853 - val_mae: 0.7323\n",
      "Epoch 63/100\n",
      "8540/8540 [==============================] - 1s 67us/sample - loss: 0.2595 - mae: 0.3839 - val_loss: 0.9845 - val_mae: 0.7322\n",
      "Epoch 64/100\n",
      "8540/8540 [==============================] - 1s 68us/sample - loss: 0.2562 - mae: 0.3816 - val_loss: 1.0504 - val_mae: 0.7629\n",
      "Epoch 65/100\n",
      "8540/8540 [==============================] - 1s 70us/sample - loss: 0.2559 - mae: 0.3811 - val_loss: 0.9910 - val_mae: 0.7315\n",
      "Epoch 66/100\n",
      "8540/8540 [==============================] - 1s 70us/sample - loss: 0.2531 - mae: 0.3793 - val_loss: 1.0011 - val_mae: 0.7362\n",
      "Epoch 67/100\n",
      "8540/8540 [==============================] - 1s 67us/sample - loss: 0.2512 - mae: 0.3782 - val_loss: 1.0126 - val_mae: 0.7395\n",
      "Epoch 68/100\n",
      "8540/8540 [==============================] - 1s 68us/sample - loss: 0.2524 - mae: 0.3790 - val_loss: 1.0163 - val_mae: 0.7425\n",
      "Epoch 69/100\n",
      "8540/8540 [==============================] - 1s 66us/sample - loss: 0.2482 - mae: 0.3753 - val_loss: 1.0228 - val_mae: 0.7455\n",
      "Epoch 70/100\n",
      "8540/8540 [==============================] - 1s 67us/sample - loss: 0.2471 - mae: 0.3740 - val_loss: 1.0224 - val_mae: 0.7451\n",
      "Epoch 71/100\n",
      "8540/8540 [==============================] - 1s 68us/sample - loss: 0.2454 - mae: 0.3722 - val_loss: 1.0131 - val_mae: 0.7408\n",
      "Epoch 72/100\n",
      "8540/8540 [==============================] - 1s 66us/sample - loss: 0.2446 - mae: 0.3729 - val_loss: 1.0080 - val_mae: 0.7380\n",
      "Epoch 73/100\n",
      "8540/8540 [==============================] - 1s 68us/sample - loss: 0.2430 - mae: 0.3703 - val_loss: 1.0093 - val_mae: 0.7372\n",
      "Epoch 74/100\n",
      "8540/8540 [==============================] - 1s 66us/sample - loss: 0.2416 - mae: 0.3688 - val_loss: 1.0136 - val_mae: 0.7362\n",
      "Epoch 75/100\n",
      "8540/8540 [==============================] - 1s 67us/sample - loss: 0.2420 - mae: 0.3676 - val_loss: 1.0158 - val_mae: 0.7377\n",
      "Epoch 76/100\n",
      "8540/8540 [==============================] - 1s 66us/sample - loss: 0.2398 - mae: 0.3674 - val_loss: 1.0653 - val_mae: 0.7590\n",
      "Epoch 77/100\n",
      "8540/8540 [==============================] - 1s 69us/sample - loss: 0.2385 - mae: 0.3658 - val_loss: 1.0467 - val_mae: 0.7561\n",
      "Epoch 78/100\n",
      "8540/8540 [==============================] - 1s 67us/sample - loss: 0.2370 - mae: 0.3656 - val_loss: 1.0089 - val_mae: 0.7354\n",
      "Epoch 79/100\n",
      "8540/8540 [==============================] - 1s 66us/sample - loss: 0.2331 - mae: 0.3627 - val_loss: 1.0244 - val_mae: 0.7447\n",
      "Epoch 80/100\n",
      "8540/8540 [==============================] - 1s 66us/sample - loss: 0.2346 - mae: 0.3645 - val_loss: 1.0079 - val_mae: 0.7372\n",
      "Epoch 81/100\n",
      "8540/8540 [==============================] - 1s 70us/sample - loss: 0.2332 - mae: 0.3617 - val_loss: 1.0307 - val_mae: 0.7449\n",
      "Epoch 82/100\n",
      "8540/8540 [==============================] - 1s 67us/sample - loss: 0.2308 - mae: 0.3604 - val_loss: 1.0092 - val_mae: 0.7400\n",
      "Epoch 83/100\n",
      "8540/8540 [==============================] - 1s 68us/sample - loss: 0.2309 - mae: 0.3603 - val_loss: 1.0303 - val_mae: 0.7435\n",
      "Epoch 84/100\n",
      "8540/8540 [==============================] - 1s 67us/sample - loss: 0.2301 - mae: 0.3601 - val_loss: 1.0493 - val_mae: 0.7557\n",
      "Epoch 85/100\n",
      "8540/8540 [==============================] - 1s 66us/sample - loss: 0.2299 - mae: 0.3594 - val_loss: 1.0307 - val_mae: 0.7426\n",
      "Epoch 86/100\n",
      "8540/8540 [==============================] - 1s 67us/sample - loss: 0.2276 - mae: 0.3579 - val_loss: 1.0577 - val_mae: 0.7588\n",
      "Epoch 87/100\n",
      "8540/8540 [==============================] - 1s 67us/sample - loss: 0.2273 - mae: 0.3560 - val_loss: 1.0552 - val_mae: 0.7530\n",
      "Epoch 88/100\n",
      "8540/8540 [==============================] - 1s 69us/sample - loss: 0.2269 - mae: 0.3564 - val_loss: 1.0413 - val_mae: 0.7478\n",
      "Epoch 89/100\n",
      "8540/8540 [==============================] - 1s 67us/sample - loss: 0.2256 - mae: 0.3554 - val_loss: 1.0267 - val_mae: 0.7413\n",
      "Epoch 90/100\n",
      "8540/8540 [==============================] - 1s 66us/sample - loss: 0.2243 - mae: 0.3536 - val_loss: 1.0529 - val_mae: 0.7535\n",
      "Epoch 91/100\n",
      "8540/8540 [==============================] - 1s 68us/sample - loss: 0.2221 - mae: 0.3519 - val_loss: 1.0548 - val_mae: 0.7499\n",
      "Epoch 92/100\n",
      "8540/8540 [==============================] - 1s 66us/sample - loss: 0.2222 - mae: 0.3516 - val_loss: 1.0467 - val_mae: 0.7491\n",
      "Epoch 93/100\n",
      "8540/8540 [==============================] - 1s 66us/sample - loss: 0.2192 - mae: 0.3503 - val_loss: 1.0505 - val_mae: 0.7488\n",
      "Epoch 94/100\n",
      "8540/8540 [==============================] - 1s 68us/sample - loss: 0.2198 - mae: 0.3512 - val_loss: 1.0803 - val_mae: 0.7571\n",
      "Epoch 95/100\n",
      "8540/8540 [==============================] - 1s 68us/sample - loss: 0.2190 - mae: 0.3496 - val_loss: 1.0654 - val_mae: 0.7518\n",
      "Epoch 96/100\n",
      "8540/8540 [==============================] - 1s 67us/sample - loss: 0.2188 - mae: 0.3488 - val_loss: 1.0399 - val_mae: 0.7418\n",
      "Epoch 97/100\n",
      "8540/8540 [==============================] - 1s 66us/sample - loss: 0.2180 - mae: 0.3475 - val_loss: 1.0799 - val_mae: 0.7562\n",
      "Epoch 98/100\n",
      "8540/8540 [==============================] - 1s 67us/sample - loss: 0.2157 - mae: 0.3453 - val_loss: 1.0650 - val_mae: 0.7550\n",
      "Epoch 99/100\n",
      "8540/8540 [==============================] - 1s 68us/sample - loss: 0.2144 - mae: 0.3443 - val_loss: 1.0593 - val_mae: 0.7516\n",
      "Epoch 100/100\n",
      "8540/8540 [==============================] - 1s 67us/sample - loss: 0.2152 - mae: 0.3445 - val_loss: 1.0784 - val_mae: 0.7558\n"
     ]
    }
   ],
   "source": [
    "history = model.fit(partial_x_train, partial_y_train, epochs=100, batch_size=16, validation_data=(x_val, y_val))"
   ]
  },
  {
   "cell_type": "code",
   "execution_count": 22,
   "metadata": {},
   "outputs": [
    {
     "data": {
      "text/plain": [
       "dict_keys(['loss', 'mae', 'val_loss', 'val_mae'])"
      ]
     },
     "execution_count": 22,
     "metadata": {},
     "output_type": "execute_result"
    }
   ],
   "source": [
    "history_dict = history.history\n",
    "history_dict.keys()"
   ]
  },
  {
   "cell_type": "code",
   "execution_count": 23,
   "metadata": {},
   "outputs": [
    {
     "data": {
      "image/png": "[encoded data removed]",
      "text/plain": [
       "<Figure size 432x288 with 1 Axes>"
      ]
     },
     "metadata": {
      "needs_background": "light"
     },
     "output_type": "display_data"
    }
   ],
   "source": [
    "history_dict = history.history\n",
    "loss_values = history_dict['loss']\n",
    "val_loss_values = history_dict['val_loss']\n",
    "epochs = range(1, 100 + 1)\n",
    "plt.plot(epochs, loss_values, 'bo', label='Training loss')\n",
    "plt.plot(epochs, val_loss_values, 'b', label='Validation loss')\n",
    "plt.title('Training and validation loss')\n",
    "plt.xlabel('Epochs')\n",
    "plt.ylabel('Loss')\n",
    "plt.legend()\n",
    "plt.show()"
   ]
  },
  {
   "cell_type": "code",
   "execution_count": 24,
   "metadata": {},
   "outputs": [
    {
     "data": {
      "text/plain": [
       "{'loss': [2.144062515611671,\n",
       "  1.2918609768222031,\n",
       "  1.1925167789503897,\n",
       "  1.1190894679665844,\n",
       "  1.0506354536887355,\n",
       "  0.9954887242172027,\n",
       "  0.9363780340768694,\n",
       "  0.8866500505239678,\n",
       "  0.8379312626930254,\n",
       "  0.7932429152992346,\n",
       "  0.7531115094727598,\n",
       "  0.7139078208378383,\n",
       "  0.6818733396798163,\n",
       "  0.6482158989202781,\n",
       "  0.6201262441814923,\n",
       "  0.5928413244963251,\n",
       "  0.5720543190243652,\n",
       "  0.5469068593107844,\n",
       "  0.5277632518869931,\n",
       "  0.5112111038709413,\n",
       "  0.49331763615652885,\n",
       "  0.4783122073850252,\n",
       "  0.46557229275027817,\n",
       "  0.45136416209665337,\n",
       "  0.439973736060587,\n",
       "  0.4290451199165273,\n",
       "  0.41587182639354286,\n",
       "  0.4071430362220112,\n",
       "  0.3950790248514618,\n",
       "  0.3876362253407963,\n",
       "  0.3842871705877139,\n",
       "  0.37082436166407073,\n",
       "  0.3655965578918993,\n",
       "  0.3594460900061583,\n",
       "  0.3553045355673417,\n",
       "  0.34582527968029225,\n",
       "  0.34135455729252284,\n",
       "  0.33598596163320876,\n",
       "  0.3298172595489779,\n",
       "  0.32653488879739817,\n",
       "  0.32268176994502407,\n",
       "  0.31675810406302957,\n",
       "  0.3118479224920831,\n",
       "  0.3097200809513378,\n",
       "  0.30506618869528,\n",
       "  0.30113372672218347,\n",
       "  0.29853616531336336,\n",
       "  0.29533951145703674,\n",
       "  0.29119690780896496,\n",
       "  0.2877578458336533,\n",
       "  0.28429514334408407,\n",
       "  0.2833580867956617,\n",
       "  0.28154649100761503,\n",
       "  0.280122896205346,\n",
       "  0.27333519991304056,\n",
       "  0.27151687333678753,\n",
       "  0.270684021599678,\n",
       "  0.26920558540128714,\n",
       "  0.26660409576021815,\n",
       "  0.26617269865662485,\n",
       "  0.2634421041894015,\n",
       "  0.25858530407767105,\n",
       "  0.25948724617932944,\n",
       "  0.2562357255879275,\n",
       "  0.25592116596966774,\n",
       "  0.2530849026991556,\n",
       "  0.2512132219359523,\n",
       "  0.2523936362051573,\n",
       "  0.2481561857308381,\n",
       "  0.24708299953708604,\n",
       "  0.24543232106073679,\n",
       "  0.24455488354874996,\n",
       "  0.24301670641753936,\n",
       "  0.24155072853911397,\n",
       "  0.2420165996640851,\n",
       "  0.23980705098748487,\n",
       "  0.23850376665313014,\n",
       "  0.23695698605907048,\n",
       "  0.23306920884364662,\n",
       "  0.23457207220499632,\n",
       "  0.23323650782016178,\n",
       "  0.23083990214859296,\n",
       "  0.23089135340840253,\n",
       "  0.23008922236585505,\n",
       "  0.22993335921395858,\n",
       "  0.22763429134037233,\n",
       "  0.22734392928853805,\n",
       "  0.22686025199482535,\n",
       "  0.22560607110448966,\n",
       "  0.22430733491162785,\n",
       "  0.22211798147169712,\n",
       "  0.22217858772925528,\n",
       "  0.21915002806544023,\n",
       "  0.2198374845314361,\n",
       "  0.2190009460237043,\n",
       "  0.21878900579602154,\n",
       "  0.21798649652222002,\n",
       "  0.21573345411298425,\n",
       "  0.21435481032107975,\n",
       "  0.21519575996337506],\n",
       " 'mae': [1.0777566,\n",
       "  0.82854563,\n",
       "  0.79693913,\n",
       "  0.77379024,\n",
       "  0.75146246,\n",
       "  0.73479897,\n",
       "  0.71376735,\n",
       "  0.6948064,\n",
       "  0.67727053,\n",
       "  0.6604668,\n",
       "  0.64371216,\n",
       "  0.6286476,\n",
       "  0.61196893,\n",
       "  0.59900564,\n",
       "  0.5890693,\n",
       "  0.57331324,\n",
       "  0.567793,\n",
       "  0.55461985,\n",
       "  0.5416807,\n",
       "  0.53681517,\n",
       "  0.52578574,\n",
       "  0.51911765,\n",
       "  0.51388305,\n",
       "  0.50529027,\n",
       "  0.49826774,\n",
       "  0.49109316,\n",
       "  0.48531353,\n",
       "  0.47861072,\n",
       "  0.47363028,\n",
       "  0.46735618,\n",
       "  0.46753663,\n",
       "  0.45766455,\n",
       "  0.45621717,\n",
       "  0.4501017,\n",
       "  0.4464799,\n",
       "  0.44280052,\n",
       "  0.44053262,\n",
       "  0.4382323,\n",
       "  0.4349332,\n",
       "  0.4313271,\n",
       "  0.43002534,\n",
       "  0.42505255,\n",
       "  0.42229527,\n",
       "  0.41917545,\n",
       "  0.41804093,\n",
       "  0.4130962,\n",
       "  0.41172773,\n",
       "  0.4112446,\n",
       "  0.4073565,\n",
       "  0.40597168,\n",
       "  0.4018475,\n",
       "  0.4007489,\n",
       "  0.4006042,\n",
       "  0.39847237,\n",
       "  0.39381632,\n",
       "  0.39319667,\n",
       "  0.39144287,\n",
       "  0.39202484,\n",
       "  0.3880453,\n",
       "  0.38807508,\n",
       "  0.38624915,\n",
       "  0.38290405,\n",
       "  0.38389266,\n",
       "  0.38162208,\n",
       "  0.38108778,\n",
       "  0.37927955,\n",
       "  0.37822613,\n",
       "  0.37900102,\n",
       "  0.37525985,\n",
       "  0.37403947,\n",
       "  0.3722044,\n",
       "  0.37289378,\n",
       "  0.37034222,\n",
       "  0.3688085,\n",
       "  0.36757836,\n",
       "  0.36739287,\n",
       "  0.36577615,\n",
       "  0.36558658,\n",
       "  0.3626899,\n",
       "  0.3644867,\n",
       "  0.3617402,\n",
       "  0.36042967,\n",
       "  0.36031604,\n",
       "  0.3600873,\n",
       "  0.35936993,\n",
       "  0.35789347,\n",
       "  0.35598773,\n",
       "  0.35638902,\n",
       "  0.35543418,\n",
       "  0.35355136,\n",
       "  0.35192755,\n",
       "  0.35160837,\n",
       "  0.35029662,\n",
       "  0.35121265,\n",
       "  0.3495995,\n",
       "  0.3487815,\n",
       "  0.34746677,\n",
       "  0.3453449,\n",
       "  0.34428266,\n",
       "  0.34447],\n",
       " 'val_loss': [1.3316898385116032,\n",
       "  1.2138215959072114,\n",
       "  1.1256919748442513,\n",
       "  1.0842041112695422,\n",
       "  1.0613328577365193,\n",
       "  1.0323613088471548,\n",
       "  1.054830195222582,\n",
       "  1.0267338391712735,\n",
       "  0.9800568934849331,\n",
       "  1.0508260700532368,\n",
       "  0.9514176838738577,\n",
       "  0.9482094391754695,\n",
       "  0.9452103031533104,\n",
       "  0.958466324039868,\n",
       "  0.9201767873764038,\n",
       "  0.913575348854065,\n",
       "  0.9088571372202464,\n",
       "  0.9151556720052446,\n",
       "  0.8892062980788095,\n",
       "  0.8876558478389468,\n",
       "  0.8764491266863687,\n",
       "  0.8848893090656825,\n",
       "  0.9013485499790737,\n",
       "  0.908441640990121,\n",
       "  0.8938324503387723,\n",
       "  0.8827847690241677,\n",
       "  0.8909422975778579,\n",
       "  0.8976052734681538,\n",
       "  0.9022548928431102,\n",
       "  0.9158380460739136,\n",
       "  0.8999572370733534,\n",
       "  0.9075158830199923,\n",
       "  0.9197663957732064,\n",
       "  0.9132358690670558,\n",
       "  0.9183835066216333,\n",
       "  0.9360698181390762,\n",
       "  0.9414268449374608,\n",
       "  0.9392528586728233,\n",
       "  0.9426957660913468,\n",
       "  0.9404293731280735,\n",
       "  0.9406493087325777,\n",
       "  0.9285465112754276,\n",
       "  0.9505984661408833,\n",
       "  0.9376775242601122,\n",
       "  0.9175471076795033,\n",
       "  0.9325767709527697,\n",
       "  0.9572329743419374,\n",
       "  0.9310943636723927,\n",
       "  0.9812320472512926,\n",
       "  0.9542653397151402,\n",
       "  0.9603666966302055,\n",
       "  0.9709387171268463,\n",
       "  0.9753269247497831,\n",
       "  0.9551887684209006,\n",
       "  0.967769215958459,\n",
       "  1.0165963542461396,\n",
       "  0.991394681249346,\n",
       "  0.9977441615717751,\n",
       "  0.971542215687888,\n",
       "  0.9785180753469467,\n",
       "  0.9719815506253924,\n",
       "  0.9853345252786364,\n",
       "  0.9844868027312415,\n",
       "  1.0504356394495282,\n",
       "  0.990987222620419,\n",
       "  1.0010784597056253,\n",
       "  1.01264095050948,\n",
       "  1.0163428163528443,\n",
       "  1.0227681393282755,\n",
       "  1.0223580397878373,\n",
       "  1.0130906861168998,\n",
       "  1.0080489901133947,\n",
       "  1.009282117826598,\n",
       "  1.0136444871766226,\n",
       "  1.0157713895184652,\n",
       "  1.0653455755540302,\n",
       "  1.046692416029317,\n",
       "  1.0088590570007052,\n",
       "  1.024380853857313,\n",
       "  1.0078906748124532,\n",
       "  1.030729347382273,\n",
       "  1.0092019003629684,\n",
       "  1.0303420627968651,\n",
       "  1.049256226335253,\n",
       "  1.0307393724577767,\n",
       "  1.05772481577737,\n",
       "  1.0551856922251837,\n",
       "  1.0413301595619746,\n",
       "  1.0266773445265633,\n",
       "  1.0529456337860652,\n",
       "  1.0547873294353485,\n",
       "  1.0466722708089011,\n",
       "  1.050520024044173,\n",
       "  1.080317554814475,\n",
       "  1.0653650449003491,\n",
       "  1.0398805529730661,\n",
       "  1.0798597615105765,\n",
       "  1.064984884772982,\n",
       "  1.0592876020499638,\n",
       "  1.0784350383281707],\n",
       " 'val_mae': [0.85107875,\n",
       "  0.8209641,\n",
       "  0.7887209,\n",
       "  0.7778834,\n",
       "  0.7692849,\n",
       "  0.75977486,\n",
       "  0.7730089,\n",
       "  0.7658185,\n",
       "  0.73665464,\n",
       "  0.76800364,\n",
       "  0.7238119,\n",
       "  0.7258955,\n",
       "  0.7149796,\n",
       "  0.72050536,\n",
       "  0.7108348,\n",
       "  0.71030134,\n",
       "  0.7040957,\n",
       "  0.7099037,\n",
       "  0.6974402,\n",
       "  0.69986874,\n",
       "  0.69356585,\n",
       "  0.6944275,\n",
       "  0.7021821,\n",
       "  0.7150789,\n",
       "  0.69407433,\n",
       "  0.69666916,\n",
       "  0.69871426,\n",
       "  0.6986296,\n",
       "  0.70054865,\n",
       "  0.7070573,\n",
       "  0.70085967,\n",
       "  0.70347756,\n",
       "  0.70799994,\n",
       "  0.7054437,\n",
       "  0.70785713,\n",
       "  0.71039724,\n",
       "  0.71539193,\n",
       "  0.71673936,\n",
       "  0.7192887,\n",
       "  0.71458054,\n",
       "  0.71706593,\n",
       "  0.71298754,\n",
       "  0.7192711,\n",
       "  0.7132433,\n",
       "  0.70645875,\n",
       "  0.7116386,\n",
       "  0.722674,\n",
       "  0.7122708,\n",
       "  0.73487043,\n",
       "  0.71989316,\n",
       "  0.72501415,\n",
       "  0.723134,\n",
       "  0.7292155,\n",
       "  0.71813047,\n",
       "  0.7279169,\n",
       "  0.74707055,\n",
       "  0.7384404,\n",
       "  0.7402404,\n",
       "  0.72727066,\n",
       "  0.72918963,\n",
       "  0.7271676,\n",
       "  0.7323409,\n",
       "  0.73215437,\n",
       "  0.7628504,\n",
       "  0.731544,\n",
       "  0.7362077,\n",
       "  0.73950404,\n",
       "  0.7425224,\n",
       "  0.7455119,\n",
       "  0.7451376,\n",
       "  0.7407814,\n",
       "  0.7380458,\n",
       "  0.73720837,\n",
       "  0.73619115,\n",
       "  0.7377069,\n",
       "  0.7590149,\n",
       "  0.7561297,\n",
       "  0.7353888,\n",
       "  0.7447022,\n",
       "  0.7372489,\n",
       "  0.7449269,\n",
       "  0.73998755,\n",
       "  0.74352694,\n",
       "  0.75572425,\n",
       "  0.7425501,\n",
       "  0.75879157,\n",
       "  0.75302655,\n",
       "  0.7478457,\n",
       "  0.74131566,\n",
       "  0.75352955,\n",
       "  0.7498736,\n",
       "  0.74913275,\n",
       "  0.74884737,\n",
       "  0.75712097,\n",
       "  0.7518294,\n",
       "  0.7418287,\n",
       "  0.7562375,\n",
       "  0.7549717,\n",
       "  0.751553,\n",
       "  0.7558171]}"
      ]
     },
     "execution_count": 24,
     "metadata": {},
     "output_type": "execute_result"
    }
   ],
   "source": [
    "history.history"
   ]
  },
  {
   "cell_type": "code",
   "execution_count": 25,
   "metadata": {},
   "outputs": [
    {
     "data": {
      "image/png": "[encoded data removed]",
      "text/plain": [
       "<Figure size 432x288 with 1 Axes>"
      ]
     },
     "metadata": {
      "needs_background": "light"
     },
     "output_type": "display_data"
    }
   ],
   "source": [
    "plt.clf()\n",
    "mae_values = history_dict['mae']\n",
    "val_mae_values = history_dict['val_mae']\n",
    "plt.plot(epochs, mae_values, 'bo', label='Training mae')\n",
    "plt.plot(epochs, val_mae_values, 'b', label='Validation mae')\n",
    "plt.title('Training and validation mean absolute error')\n",
    "plt.xlabel('Epochs')\n",
    "plt.ylabel('mae')\n",
    "plt.legend()\n",
    "plt.show()"
   ]
  },
  {
   "cell_type": "markdown",
   "metadata": {},
   "source": [
    "### Retrain Model with Tuned Epoch"
   ]
  },
  {
   "cell_type": "markdown",
   "metadata": {},
   "source": [
    "Epoch was set to 16, as it was the point before the validation scores started to get unstable and started to increase"
   ]
  },
  {
   "cell_type": "code",
   "execution_count": 26,
   "metadata": {},
   "outputs": [
    {
     "name": "stdout",
     "output_type": "stream",
     "text": [
      "Epoch 1/16\n",
      "11340/11340 [==============================] - 1s 62us/sample - loss: 1.9985 - mae: 1.0443\n",
      "Epoch 2/16\n",
      "11340/11340 [==============================] - 1s 58us/sample - loss: 1.2232 - mae: 0.8102\n",
      "Epoch 3/16\n",
      "11340/11340 [==============================] - 1s 57us/sample - loss: 1.1377 - mae: 0.7851\n",
      "Epoch 4/16\n",
      "11340/11340 [==============================] - 1s 56us/sample - loss: 1.0627 - mae: 0.7596\n",
      "Epoch 5/16\n",
      "11340/11340 [==============================] - 1s 57us/sample - loss: 1.0030 - mae: 0.7383\n",
      "Epoch 6/16\n",
      "11340/11340 [==============================] - 1s 59us/sample - loss: 0.9417 - mae: 0.7198\n",
      "Epoch 7/16\n",
      "11340/11340 [==============================] - 1s 57us/sample - loss: 0.8874 - mae: 0.6959\n",
      "Epoch 8/16\n",
      "11340/11340 [==============================] - 1s 59us/sample - loss: 0.8376 - mae: 0.6780\n",
      "Epoch 9/16\n",
      "11340/11340 [==============================] - 1s 59us/sample - loss: 0.7909 - mae: 0.6566\n",
      "Epoch 10/16\n",
      "11340/11340 [==============================] - 1s 57us/sample - loss: 0.7550 - mae: 0.6459\n",
      "Epoch 11/16\n",
      "11340/11340 [==============================] - 1s 55us/sample - loss: 0.7172 - mae: 0.6275\n",
      "Epoch 12/16\n",
      "11340/11340 [==============================] - 1s 56us/sample - loss: 0.6854 - mae: 0.6144\n",
      "Epoch 13/16\n",
      "11340/11340 [==============================] - 1s 58us/sample - loss: 0.6633 - mae: 0.6037\n",
      "Epoch 14/16\n",
      "11340/11340 [==============================] - 1s 61us/sample - loss: 0.6362 - mae: 0.5937\n",
      "Epoch 15/16\n",
      "11340/11340 [==============================] - 1s 57us/sample - loss: 0.6187 - mae: 0.5837\n",
      "Epoch 16/16\n",
      "11340/11340 [==============================] - 1s 57us/sample - loss: 0.5987 - mae: 0.5741\n"
     ]
    }
   ],
   "source": [
    "model = keras.Sequential()\n",
    "model.add(keras.layers.Embedding(embedding_size, 8, input_length=maxlen))\n",
    "model.add(keras.layers.Flatten())\n",
    "model.add(keras.layers.Dense(16, activation='relu'))\n",
    "model.add(keras.layers.Dense(1))\n",
    "model.compile(optimizer='rmsprop', loss='mse', metrics=['mae'])\n",
    "\n",
    "history = model.fit(x_train, y_train, epochs=16, batch_size=16)"
   ]
  },
  {
   "cell_type": "markdown",
   "metadata": {},
   "source": [
    "### Evaluate Model"
   ]
  },
  {
   "cell_type": "code",
   "execution_count": 27,
   "metadata": {},
   "outputs": [
    {
     "name": "stdout",
     "output_type": "stream",
     "text": [
      "2836/2836 [==============================] - 0s 26us/sample - loss: 0.8323 - mae: 0.6727\n"
     ]
    }
   ],
   "source": [
    "test_mse_score, test_mae_score = model.evaluate(x_test, y_test)"
   ]
  },
  {
   "cell_type": "code",
   "execution_count": 28,
   "metadata": {},
   "outputs": [
    {
     "data": {
      "text/plain": [
       "0.8322533696931912"
      ]
     },
     "execution_count": 28,
     "metadata": {},
     "output_type": "execute_result"
    }
   ],
   "source": [
    "test_mse_score"
   ]
  },
  {
   "cell_type": "code",
   "execution_count": 29,
   "metadata": {},
   "outputs": [
    {
     "data": {
      "text/plain": [
       "0.6727048"
      ]
     },
     "execution_count": 29,
     "metadata": {},
     "output_type": "execute_result"
    }
   ],
   "source": [
    "test_mae_score"
   ]
  },
  {
   "cell_type": "code",
   "execution_count": 30,
   "metadata": {},
   "outputs": [
    {
     "data": {
      "text/plain": [
       "11.29"
      ]
     },
     "execution_count": 30,
     "metadata": {},
     "output_type": "execute_result"
    }
   ],
   "source": [
    "smiles_df['Kow'].max()"
   ]
  },
  {
   "cell_type": "code",
   "execution_count": 31,
   "metadata": {},
   "outputs": [
    {
     "data": {
      "text/plain": [
       "-5.4"
      ]
     },
     "execution_count": 31,
     "metadata": {},
     "output_type": "execute_result"
    }
   ],
   "source": [
    "smiles_df['Kow'].min()"
   ]
  },
  {
   "cell_type": "markdown",
   "metadata": {},
   "source": [
    "The range of the partition coefficient in this data set is between -5.4 to 11.29 and the baseline model have a mean absolute error of about 0.67."
   ]
  },
  {
   "cell_type": "markdown",
   "metadata": {},
   "source": [
    "### Future Work"
   ]
  },
  {
   "cell_type": "markdown",
   "metadata": {},
   "source": [
    "1) Explore other model architecture to beat the baseline.\n",
    "<br>\n",
    "2) Expand to other prediction targets.\n",
    "<br>\n",
    "3) Deploy the model."
   ]
  },
  {
   "cell_type": "code",
   "execution_count": null,
   "metadata": {},
   "outputs": [],
   "source": []
  }
 ],
 "metadata": {
  "kernelspec": {
   "display_name": "Python 3",
   "language": "python",
   "name": "python3"
  },
  "language_info": {
   "codemirror_mode": {
    "name": "ipython",
    "version": 3
   },
   "file_extension": ".py",
   "mimetype": "text/x-python",
   "name": "python",
   "nbconvert_exporter": "python",
   "pygments_lexer": "ipython3",
   "version": "3.6.8"
  }
 },
 "nbformat": 4,
 "nbformat_minor": 2
}
