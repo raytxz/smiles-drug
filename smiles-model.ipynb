{
 "cells": [
  {
   "cell_type": "markdown",
   "metadata": {},
   "source": [
    "# Drug Design Assistant Using SMILES\n",
    "\n",
    "Simplified molecular-input line-entry system (SMILES) is a special linear representation of a chemical compound. For example the moelcular formula of Caffeine is C8H10N4O2 while its SMILES is CN1C=NC2=C1C(=O)N(C(=O)N2C)C. SMILES retains some amount of its structural information and at the same time is easy to be processed by a machine.\n",
    "\n",
    "This project aims to make use of SMILES to assist in the drug design process. Since the structural information is retained, it means that it is possible to make some prediction of the properties of a compound based on just its SMILES string.\n",
    "\n",
    "Partition coefficient (Kow) is the ratio of concentrations of a compound between an oil phase and a water phase. Partition coefficient is a useful gauge of how a drug would be distributed within the body. The more percentage of it is found in the oil phase the more likely it is to penetrate the phospholipid bilayer of the cells. But if a drug is too lipid loving, it would not be able to dissolve easily in the aqueous region of our body.\n",
    "\n",
    "In this notebook, Kow is used as the target to be predicted from SMILES string.\n",
    "\n",
    "Data is taken from a git repository (https://github.com/isayev/ReLeaSE) which is the source code for the paper titled \"Deep Reinforcement Learning for de-novo Drug Design (https://arxiv.org/pdf/1711.10907.pdf). This notebook is not an implementation of this paper. It is only a baseline model built using TensorFlow 2.0. Attempts would be made to replicate this paper in the future."
   ]
  },
  {
   "cell_type": "markdown",
   "metadata": {},
   "source": [
    "# Import"
   ]
  },
  {
   "cell_type": "code",
   "execution_count": 1,
   "metadata": {},
   "outputs": [],
   "source": [
    "import numpy as np\n",
    "import pandas as pd\n",
    "import tensorflow as tf\n",
    "from tensorflow import keras\n",
    "from tensorflow.keras.preprocessing.text import Tokenizer\n",
    "from tensorflow.keras import preprocessing\n",
    "from sklearn.model_selection import train_test_split\n",
    "import matplotlib.pyplot as plt"
   ]
  },
  {
   "cell_type": "markdown",
   "metadata": {},
   "source": [
    "# SMILES Processing"
   ]
  },
  {
   "cell_type": "markdown",
   "metadata": {},
   "source": [
    "### Tokenize SMILES by Character"
   ]
  },
  {
   "cell_type": "code",
   "execution_count": 2,
   "metadata": {},
   "outputs": [
    {
     "name": "stdout",
     "output_type": "stream",
     "text": [
      "<class 'pandas.core.frame.DataFrame'>\n",
      "RangeIndex: 14176 entries, 0 to 14175\n",
      "Data columns (total 2 columns):\n",
      "SMILES    14176 non-null object\n",
      "Kow       14176 non-null float64\n",
      "dtypes: float64(1), object(1)\n",
      "memory usage: 221.6+ KB\n"
     ]
    }
   ],
   "source": [
    "smiles_df = pd.read_csv('./data/release/logP_labels.csv')\n",
    "\n",
    "smiles_df.info()"
   ]
  },
  {
   "cell_type": "code",
   "execution_count": 3,
   "metadata": {},
   "outputs": [
    {
     "data": {
      "text/html": [
       "<div>\n",
       "<style scoped>\n",
       "    .dataframe tbody tr th:only-of-type {\n",
       "        vertical-align: middle;\n",
       "    }\n",
       "\n",
       "    .dataframe tbody tr th {\n",
       "        vertical-align: top;\n",
       "    }\n",
       "\n",
       "    .dataframe thead th {\n",
       "        text-align: right;\n",
       "    }\n",
       "</style>\n",
       "<table border=\"1\" class=\"dataframe\">\n",
       "  <thead>\n",
       "    <tr style=\"text-align: right;\">\n",
       "      <th></th>\n",
       "      <th>SMILES</th>\n",
       "      <th>Kow</th>\n",
       "    </tr>\n",
       "  </thead>\n",
       "  <tbody>\n",
       "    <tr>\n",
       "      <th>0</th>\n",
       "      <td>CC1CC2C3CCC4=CC(=O)C=CC4(C)C3(F)C(O)CC2(C)C1(O...</td>\n",
       "      <td>1.885</td>\n",
       "    </tr>\n",
       "    <tr>\n",
       "      <th>1</th>\n",
       "      <td>CC(=O)OCC(=O)C1(O)CCC2C3CCC4=CC(=O)CCC4(C)C3C(...</td>\n",
       "      <td>2.190</td>\n",
       "    </tr>\n",
       "    <tr>\n",
       "      <th>2</th>\n",
       "      <td>CC(=O)OCC(=O)C1(O)CCC2C3CCC4=CC(=O)CCC4(C)C3C(...</td>\n",
       "      <td>2.100</td>\n",
       "    </tr>\n",
       "    <tr>\n",
       "      <th>3</th>\n",
       "      <td>CCC1(c2ccccc2)C(=O)NC(=O)NC1=O</td>\n",
       "      <td>1.470</td>\n",
       "    </tr>\n",
       "    <tr>\n",
       "      <th>4</th>\n",
       "      <td>COC12C(COC(N)=O)C3=C(C(=O)C(C)=C(N)C3=O)N1CC1NC12</td>\n",
       "      <td>-0.400</td>\n",
       "    </tr>\n",
       "  </tbody>\n",
       "</table>\n",
       "</div>"
      ],
      "text/plain": [
       "                                              SMILES    Kow\n",
       "0  CC1CC2C3CCC4=CC(=O)C=CC4(C)C3(F)C(O)CC2(C)C1(O...  1.885\n",
       "1  CC(=O)OCC(=O)C1(O)CCC2C3CCC4=CC(=O)CCC4(C)C3C(...  2.190\n",
       "2  CC(=O)OCC(=O)C1(O)CCC2C3CCC4=CC(=O)CCC4(C)C3C(...  2.100\n",
       "3                     CCC1(c2ccccc2)C(=O)NC(=O)NC1=O  1.470\n",
       "4  COC12C(COC(N)=O)C3=C(C(=O)C(C)=C(N)C3=O)N1CC1NC12 -0.400"
      ]
     },
     "execution_count": 3,
     "metadata": {},
     "output_type": "execute_result"
    }
   ],
   "source": [
    "smiles_df.head()"
   ]
  },
  {
   "cell_type": "code",
   "execution_count": 4,
   "metadata": {},
   "outputs": [
    {
     "data": {
      "text/plain": [
       "167"
      ]
     },
     "execution_count": 4,
     "metadata": {},
     "output_type": "execute_result"
    }
   ],
   "source": [
    "smiles_df.SMILES.str.len().max()"
   ]
  },
  {
   "cell_type": "code",
   "execution_count": 5,
   "metadata": {},
   "outputs": [
    {
     "name": "stdout",
     "output_type": "stream",
     "text": [
      "{'c': 1, 'C': 2, '(': 3, ')': 4, 'O': 5, '1': 6, '=': 7, 'N': 8, '2': 9, 'n': 10, 'l': 11, '[': 12, ']': 13, '3': 14, '-': 15, 'S': 16, 'F': 17, '+': 18, 'H': 19, '4': 20, '#': 21, 'B': 22, 'r': 23, 'o': 24, 's': 25, 'P': 26, 'I': 27, '5': 28, '6': 29, 'i': 30, '7': 31, 'e': 32, 'A': 33}\n"
     ]
    }
   ],
   "source": [
    "tokenizer = Tokenizer(lower=False, char_level=True)\n",
    "tokenizer.fit_on_texts(smiles_df['SMILES'])\n",
    "\n",
    "print(tokenizer.word_index)"
   ]
  },
  {
   "cell_type": "code",
   "execution_count": 6,
   "metadata": {},
   "outputs": [],
   "source": [
    "token_dict = tokenizer.word_index"
   ]
  },
  {
   "cell_type": "code",
   "execution_count": 7,
   "metadata": {},
   "outputs": [
    {
     "data": {
      "text/plain": [
       "(14176,)"
      ]
     },
     "execution_count": 7,
     "metadata": {},
     "output_type": "execute_result"
    }
   ],
   "source": [
    "tokenized_smiles = smiles_df['SMILES'].apply(list)\n",
    "tokenized_smiles.shape"
   ]
  },
  {
   "cell_type": "code",
   "execution_count": 8,
   "metadata": {},
   "outputs": [
    {
     "data": {
      "text/plain": [
       "0    [C, C, 1, C, C, 2, C, 3, C, C, C, 4, =, C, C, ...\n",
       "1    [C, C, (, =, O, ), O, C, C, (, =, O, ), C, 1, ...\n",
       "2    [C, C, (, =, O, ), O, C, C, (, =, O, ), C, 1, ...\n",
       "3    [C, C, C, 1, (, c, 2, c, c, c, c, c, 2, ), C, ...\n",
       "4    [C, O, C, 1, 2, C, (, C, O, C, (, N, ), =, O, ...\n",
       "Name: SMILES, dtype: object"
      ]
     },
     "execution_count": 8,
     "metadata": {},
     "output_type": "execute_result"
    }
   ],
   "source": [
    "tokenized_smiles.head()"
   ]
  },
  {
   "cell_type": "markdown",
   "metadata": {},
   "source": [
    "### Convert SMILES Tokens to Indices"
   ]
  },
  {
   "cell_type": "code",
   "execution_count": 9,
   "metadata": {},
   "outputs": [],
   "source": [
    "def to_word_indices(smiles_tokens):\n",
    "    smiles_indices = []\n",
    "    for token in smiles_tokens:\n",
    "        smiles_indices.append(token_dict[token])\n",
    "    \n",
    "    return smiles_indices"
   ]
  },
  {
   "cell_type": "code",
   "execution_count": 10,
   "metadata": {},
   "outputs": [],
   "source": [
    "tokenized_smiles_indices = tokenized_smiles.apply(to_word_indices)"
   ]
  },
  {
   "cell_type": "code",
   "execution_count": 11,
   "metadata": {},
   "outputs": [
    {
     "data": {
      "text/plain": [
       "0        [2, 2, 6, 2, 2, 9, 2, 14, 2, 2, 2, 20, 7, 2, 2...\n",
       "1        [2, 2, 3, 7, 5, 4, 5, 2, 2, 3, 7, 5, 4, 2, 6, ...\n",
       "2        [2, 2, 3, 7, 5, 4, 5, 2, 2, 3, 7, 5, 4, 2, 6, ...\n",
       "3        [2, 2, 2, 6, 3, 1, 9, 1, 1, 1, 1, 1, 9, 4, 2, ...\n",
       "4        [2, 5, 2, 6, 9, 2, 3, 2, 5, 2, 3, 8, 4, 7, 5, ...\n",
       "5        [2, 2, 2, 6, 3, 2, 2, 4, 2, 3, 7, 5, 4, 8, 2, ...\n",
       "6        [2, 2, 2, 6, 3, 1, 9, 1, 1, 1, 1, 1, 9, 4, 8, ...\n",
       "7        [5, 7, 26, 6, 3, 8, 3, 2, 2, 2, 11, 4, 2, 2, 2...\n",
       "8                        [2, 2, 3, 5, 4, 2, 3, 7, 5, 4, 5]\n",
       "9        [2, 2, 6, 9, 2, 2, 2, 3, 7, 5, 4, 2, 7, 2, 6, ...\n",
       "10       [2, 2, 6, 9, 2, 2, 2, 3, 7, 5, 4, 2, 7, 2, 6, ...\n",
       "11       [2, 2, 6, 9, 2, 7, 2, 2, 3, 7, 5, 4, 2, 7, 2, ...\n",
       "12       [2, 2, 6, 9, 2, 2, 2, 14, 1, 20, 1, 1, 1, 3, 5...\n",
       "13       [2, 2, 6, 9, 2, 2, 2, 14, 1, 20, 1, 1, 1, 3, 5...\n",
       "14       [2, 11, 1, 6, 1, 1, 1, 3, 2, 3, 1, 9, 1, 1, 1,...\n",
       "15       [5, 7, 2, 3, 5, 4, 1, 6, 1, 3, 2, 11, 4, 1, 1,...\n",
       "16       [1, 6, 1, 1, 1, 9, 1, 3, 1, 6, 4, 1, 1, 6, 1, ...\n",
       "17       [2, 2, 2, 2, 2, 6, 2, 3, 7, 5, 4, 8, 3, 1, 9, ...\n",
       "18       [5, 7, 2, 6, 2, 2, 2, 3, 8, 9, 2, 3, 7, 5, 4, ...\n",
       "19       [2, 5, 2, 3, 7, 5, 4, 2, 6, 2, 3, 5, 2, 3, 7, ...\n",
       "20       [2, 2, 8, 3, 2, 2, 4, 2, 3, 7, 5, 4, 2, 6, 2, ...\n",
       "21       [16, 7, 1, 6, 12, 10, 19, 13, 1, 10, 1, 9, 12,...\n",
       "22       [2, 8, 2, 2, 2, 8, 6, 1, 9, 1, 1, 1, 1, 1, 9, ...\n",
       "23       [2, 8, 3, 2, 4, 2, 2, 2, 7, 2, 6, 1, 9, 1, 1, ...\n",
       "24       [2, 8, 3, 2, 4, 2, 2, 2, 8, 6, 1, 9, 1, 1, 1, ...\n",
       "25       [2, 16, 1, 6, 1, 1, 1, 9, 1, 3, 1, 6, 4, 8, 3,...\n",
       "26       [2, 8, 3, 2, 4, 2, 2, 2, 8, 6, 1, 9, 1, 1, 1, ...\n",
       "27       [5, 7, 2, 3, 2, 1, 6, 1, 1, 1, 25, 6, 4, 8, 2,...\n",
       "28       [8, 2, 2, 1, 6, 1, 12, 10, 19, 13, 1, 9, 1, 1,...\n",
       "29       [5, 2, 2, 3, 5, 4, 2, 3, 5, 4, 2, 3, 5, 4, 2, ...\n",
       "                               ...                        \n",
       "14146    [5, 7, 2, 3, 1, 6, 1, 1, 1, 3, 22, 23, 4, 25, ...\n",
       "14147    [5, 7, 2, 3, 1, 6, 1, 1, 1, 3, 2, 11, 4, 25, 6...\n",
       "14148    [5, 7, 2, 3, 1, 6, 1, 1, 1, 24, 6, 4, 1, 6, 1,...\n",
       "14149    [5, 7, 2, 3, 1, 6, 1, 1, 1, 25, 6, 4, 1, 6, 1,...\n",
       "14150    [5, 7, 1, 6, 12, 10, 19, 13, 1, 9, 1, 1, 3, 2,...\n",
       "14151    [8, 21, 2, 2, 2, 5, 2, 6, 2, 1, 9, 1, 3, 5, 4,...\n",
       "14152    [5, 7, 2, 6, 1, 9, 1, 1, 1, 3, 5, 4, 1, 1, 9, ...\n",
       "14153    [5, 7, 2, 6, 1, 9, 1, 1, 3, 5, 4, 1, 1, 1, 9, ...\n",
       "14154    [5, 7, 1, 6, 1, 1, 3, 2, 16, 2, 9, 2, 2, 2, 2,...\n",
       "14155    [5, 7, 1, 6, 1, 1, 3, 2, 16, 1, 9, 1, 1, 1, 1,...\n",
       "14156    [5, 7, 2, 3, 1, 6, 1, 3, 5, 4, 1, 9, 1, 1, 1, ...\n",
       "14157    [5, 7, 1, 6, 12, 10, 19, 13, 1, 9, 1, 1, 3, 2,...\n",
       "14158    [5, 7, 2, 3, 2, 1, 6, 1, 1, 1, 1, 1, 6, 4, 5, ...\n",
       "14159    [5, 7, 2, 3, 5, 2, 6, 2, 1, 9, 1, 3, 5, 4, 1, ...\n",
       "14160    [5, 7, 2, 3, 5, 2, 6, 2, 1, 9, 1, 3, 5, 4, 1, ...\n",
       "14161    [5, 1, 6, 1, 1, 3, 5, 4, 1, 9, 1, 3, 1, 6, 4, ...\n",
       "14162    [5, 1, 6, 1, 1, 1, 3, 2, 8, 1, 9, 10, 1, 10, 1...\n",
       "14163    [5, 7, 2, 3, 5, 2, 2, 21, 2, 1, 6, 1, 1, 1, 1,...\n",
       "14164    [5, 1, 6, 1, 1, 1, 1, 3, 2, 8, 1, 9, 10, 1, 10...\n",
       "14165    [5, 7, 2, 6, 1, 9, 1, 3, 5, 4, 1, 1, 1, 1, 9, ...\n",
       "14166    [5, 7, 1, 6, 1, 1, 3, 2, 16, 1, 9, 10, 1, 14, ...\n",
       "14167    [5, 7, 1, 6, 1, 1, 3, 2, 16, 1, 9, 10, 1, 14, ...\n",
       "14168    [5, 7, 1, 6, 12, 10, 19, 13, 1, 9, 1, 1, 3, 2,...\n",
       "14169    [5, 7, 1, 6, 12, 10, 19, 13, 1, 9, 1, 1, 3, 2,...\n",
       "14170        [5, 10, 6, 10, 10, 1, 9, 1, 1, 1, 1, 1, 9, 6]\n",
       "14171    [16, 7, 2, 3, 8, 8, 7, 2, 3, 1, 6, 1, 1, 1, 1,...\n",
       "14172    [16, 7, 2, 7, 8, 2, 2, 2, 2, 2, 2, 2, 2, 2, 2,...\n",
       "14173    [16, 7, 2, 7, 8, 2, 2, 2, 2, 2, 2, 2, 2, 1, 6,...\n",
       "14174    [16, 7, 1, 6, 12, 10, 19, 13, 10, 1, 3, 2, 10,...\n",
       "14175    [8, 7, 12, 8, 18, 13, 7, 8, 2, 7, 2, 1, 6, 1, ...\n",
       "Name: SMILES, Length: 14176, dtype: object"
      ]
     },
     "execution_count": 11,
     "metadata": {},
     "output_type": "execute_result"
    }
   ],
   "source": [
    "tokenized_smiles_indices"
   ]
  },
  {
   "cell_type": "markdown",
   "metadata": {},
   "source": [
    "### Pad Each Sequence & Data Split"
   ]
  },
  {
   "cell_type": "markdown",
   "metadata": {},
   "source": [
    "The longest SMILES string in this data set is found to be 167 character long. The maximum length to pad each sequence is arbitrary set to 170. This would be a point to consider in future iteration of the model."
   ]
  },
  {
   "cell_type": "code",
   "execution_count": 12,
   "metadata": {},
   "outputs": [],
   "source": [
    "maxlen = 170\n",
    "\n",
    "tokenized_smiles_indices = preprocessing.sequence.pad_sequences(tokenized_smiles_indices, maxlen=maxlen, padding='post', truncating='post')"
   ]
  },
  {
   "cell_type": "code",
   "execution_count": 13,
   "metadata": {},
   "outputs": [
    {
     "data": {
      "text/plain": [
       "array([[ 2,  2,  6, ...,  0,  0,  0],\n",
       "       [ 2,  2,  3, ...,  0,  0,  0],\n",
       "       [ 2,  2,  3, ...,  0,  0,  0],\n",
       "       ...,\n",
       "       [16,  7,  2, ...,  0,  0,  0],\n",
       "       [16,  7,  1, ...,  0,  0,  0],\n",
       "       [ 8,  7, 12, ...,  0,  0,  0]], dtype=int32)"
      ]
     },
     "execution_count": 13,
     "metadata": {},
     "output_type": "execute_result"
    }
   ],
   "source": [
    "tokenized_smiles_indices"
   ]
  },
  {
   "cell_type": "code",
   "execution_count": 14,
   "metadata": {},
   "outputs": [],
   "source": [
    "x_train, x_test, y_train, y_test = train_test_split(tokenized_smiles_indices, smiles_df['Kow'], test_size=0.2, random_state=42)"
   ]
  },
  {
   "cell_type": "code",
   "execution_count": 15,
   "metadata": {},
   "outputs": [
    {
     "data": {
      "text/plain": [
       "(11340, 170)"
      ]
     },
     "execution_count": 15,
     "metadata": {},
     "output_type": "execute_result"
    }
   ],
   "source": [
    "x_train.shape"
   ]
  },
  {
   "cell_type": "code",
   "execution_count": 16,
   "metadata": {},
   "outputs": [
    {
     "data": {
      "text/plain": [
       "(2836, 170)"
      ]
     },
     "execution_count": 16,
     "metadata": {},
     "output_type": "execute_result"
    }
   ],
   "source": [
    "x_test.shape"
   ]
  },
  {
   "cell_type": "code",
   "execution_count": 17,
   "metadata": {},
   "outputs": [],
   "source": [
    "x_val = x_train[:2800]\n",
    "partial_x_train = x_train[2800:]\n",
    "y_val = y_train[:2800]\n",
    "partial_y_train = y_train[2800:]"
   ]
  },
  {
   "cell_type": "markdown",
   "metadata": {},
   "source": [
    "The data set is roughly split into train (60%), cross validation (20%) and test (20%)."
   ]
  },
  {
   "cell_type": "markdown",
   "metadata": {},
   "source": [
    "# Baseline Model"
   ]
  },
  {
   "cell_type": "markdown",
   "metadata": {},
   "source": [
    "### Epoch Tuning"
   ]
  },
  {
   "cell_type": "code",
   "execution_count": 18,
   "metadata": {},
   "outputs": [],
   "source": [
    "embedding_size = len(token_dict) + 1"
   ]
  },
  {
   "cell_type": "code",
   "execution_count": 19,
   "metadata": {},
   "outputs": [
    {
     "name": "stdout",
     "output_type": "stream",
     "text": [
      "Model: \"sequential\"\n",
      "_________________________________________________________________\n",
      "Layer (type)                 Output Shape              Param #   \n",
      "=================================================================\n",
      "embedding (Embedding)        (None, 170, 8)            272       \n",
      "_________________________________________________________________\n",
      "flatten (Flatten)            (None, 1360)              0         \n",
      "_________________________________________________________________\n",
      "dense (Dense)                (None, 16)                21776     \n",
      "_________________________________________________________________\n",
      "dense_1 (Dense)              (None, 1)                 17        \n",
      "=================================================================\n",
      "Total params: 22,065\n",
      "Trainable params: 22,065\n",
      "Non-trainable params: 0\n",
      "_________________________________________________________________\n"
     ]
    }
   ],
   "source": [
    "model = keras.Sequential()\n",
    "model.add(keras.layers.Embedding(embedding_size, 8, input_length=maxlen))\n",
    "model.add(keras.layers.Flatten())\n",
    "model.add(keras.layers.Dense(16, activation='relu'))\n",
    "model.add(keras.layers.Dense(1))\n",
    "\n",
    "model.summary()"
   ]
  },
  {
   "cell_type": "code",
   "execution_count": 20,
   "metadata": {},
   "outputs": [],
   "source": [
    "model.compile(optimizer='rmsprop', loss='mse', metrics=['mae'])"
   ]
  },
  {
   "cell_type": "code",
   "execution_count": 21,
   "metadata": {},
   "outputs": [
    {
     "name": "stdout",
     "output_type": "stream",
     "text": [
      "Train on 8540 samples, validate on 2800 samples\n",
      "Epoch 1/100\n",
      "8540/8540 [==============================] - 1s 86us/sample - loss: 2.1666 - mae: 1.0895 - val_loss: 1.3988 - val_mae: 0.8723\n",
      "Epoch 2/100\n",
      "8540/8540 [==============================] - 1s 69us/sample - loss: 1.3225 - mae: 0.8344 - val_loss: 1.2317 - val_mae: 0.8272\n",
      "Epoch 3/100\n",
      "8540/8540 [==============================] - 1s 66us/sample - loss: 1.2134 - mae: 0.8050 - val_loss: 1.1950 - val_mae: 0.8142\n",
      "Epoch 4/100\n",
      "8540/8540 [==============================] - 1s 69us/sample - loss: 1.1568 - mae: 0.7870 - val_loss: 1.1253 - val_mae: 0.7887\n",
      "Epoch 5/100\n",
      "8540/8540 [==============================] - 1s 68us/sample - loss: 1.1065 - mae: 0.7683 - val_loss: 1.1020 - val_mae: 0.7806\n",
      "Epoch 6/100\n",
      "8540/8540 [==============================] - 1s 69us/sample - loss: 1.0500 - mae: 0.7507 - val_loss: 1.0617 - val_mae: 0.7675\n",
      "Epoch 7/100\n",
      "8540/8540 [==============================] - 1s 69us/sample - loss: 0.9932 - mae: 0.7344 - val_loss: 1.0289 - val_mae: 0.7529\n",
      "Epoch 8/100\n",
      "8540/8540 [==============================] - 1s 75us/sample - loss: 0.9438 - mae: 0.7186 - val_loss: 1.0397 - val_mae: 0.7603\n",
      "Epoch 9/100\n",
      "8540/8540 [==============================] - 1s 93us/sample - loss: 0.9003 - mae: 0.7015 - val_loss: 1.0093 - val_mae: 0.7444\n",
      "Epoch 10/100\n",
      "8540/8540 [==============================] - 1s 87us/sample - loss: 0.8478 - mae: 0.6820 - val_loss: 1.0018 - val_mae: 0.7427\n",
      "Epoch 11/100\n",
      "8540/8540 [==============================] - 1s 76us/sample - loss: 0.8158 - mae: 0.6698 - val_loss: 0.9814 - val_mae: 0.7310\n",
      "Epoch 12/100\n",
      "8540/8540 [==============================] - 1s 93us/sample - loss: 0.7774 - mae: 0.6559 - val_loss: 0.9686 - val_mae: 0.7247\n",
      "Epoch 13/100\n",
      "8540/8540 [==============================] - 1s 75us/sample - loss: 0.7451 - mae: 0.6409 - val_loss: 0.9635 - val_mae: 0.7226\n",
      "Epoch 14/100\n",
      "8540/8540 [==============================] - 1s 82us/sample - loss: 0.7121 - mae: 0.6244 - val_loss: 0.9612 - val_mae: 0.7198\n",
      "Epoch 15/100\n",
      "8540/8540 [==============================] - 1s 68us/sample - loss: 0.6841 - mae: 0.6150 - val_loss: 0.9561 - val_mae: 0.7142\n",
      "Epoch 16/100\n",
      "8540/8540 [==============================] - 1s 81us/sample - loss: 0.6539 - mae: 0.6005 - val_loss: 0.9546 - val_mae: 0.7152\n",
      "Epoch 17/100\n",
      "8540/8540 [==============================] - 1s 73us/sample - loss: 0.6293 - mae: 0.5895 - val_loss: 1.0174 - val_mae: 0.7500\n",
      "Epoch 18/100\n",
      "8540/8540 [==============================] - 1s 82us/sample - loss: 0.6078 - mae: 0.5783 - val_loss: 0.9604 - val_mae: 0.7155\n",
      "Epoch 19/100\n",
      "8540/8540 [==============================] - 1s 82us/sample - loss: 0.5841 - mae: 0.5681 - val_loss: 0.9563 - val_mae: 0.7123\n",
      "Epoch 20/100\n",
      "8540/8540 [==============================] - 1s 90us/sample - loss: 0.5703 - mae: 0.5621 - val_loss: 0.9429 - val_mae: 0.7111\n",
      "Epoch 21/100\n",
      "8540/8540 [==============================] - 1s 84us/sample - loss: 0.5456 - mae: 0.5532 - val_loss: 1.0899 - val_mae: 0.7809\n",
      "Epoch 22/100\n",
      "8540/8540 [==============================] - 1s 74us/sample - loss: 0.5322 - mae: 0.5456 - val_loss: 0.9433 - val_mae: 0.7041\n",
      "Epoch 23/100\n",
      "8540/8540 [==============================] - 1s 70us/sample - loss: 0.5176 - mae: 0.5380 - val_loss: 0.9394 - val_mae: 0.7057\n",
      "Epoch 24/100\n",
      "8540/8540 [==============================] - 1s 70us/sample - loss: 0.4996 - mae: 0.5297 - val_loss: 0.9526 - val_mae: 0.7066\n",
      "Epoch 25/100\n",
      "8540/8540 [==============================] - 1s 70us/sample - loss: 0.4874 - mae: 0.5227 - val_loss: 0.9505 - val_mae: 0.7097\n",
      "Epoch 26/100\n",
      "8540/8540 [==============================] - 1s 70us/sample - loss: 0.4742 - mae: 0.5192 - val_loss: 0.9868 - val_mae: 0.7241\n",
      "Epoch 27/100\n",
      "8540/8540 [==============================] - 1s 70us/sample - loss: 0.4621 - mae: 0.5103 - val_loss: 0.9900 - val_mae: 0.7320\n",
      "Epoch 28/100\n",
      "8540/8540 [==============================] - 1s 82us/sample - loss: 0.4487 - mae: 0.5058 - val_loss: 0.9680 - val_mae: 0.7124\n",
      "Epoch 29/100\n",
      "8540/8540 [==============================] - 1s 68us/sample - loss: 0.4385 - mae: 0.5004 - val_loss: 0.9871 - val_mae: 0.7225\n",
      "Epoch 30/100\n",
      "8540/8540 [==============================] - 1s 70us/sample - loss: 0.4254 - mae: 0.4922 - val_loss: 0.9770 - val_mae: 0.7108\n",
      "Epoch 31/100\n",
      "8540/8540 [==============================] - 1s 72us/sample - loss: 0.4181 - mae: 0.4891 - val_loss: 0.9789 - val_mae: 0.7125\n",
      "Epoch 32/100\n",
      "8540/8540 [==============================] - 1s 70us/sample - loss: 0.4103 - mae: 0.4851 - val_loss: 1.0082 - val_mae: 0.7303\n",
      "Epoch 33/100\n",
      "8540/8540 [==============================] - 1s 68us/sample - loss: 0.4020 - mae: 0.4803 - val_loss: 0.9881 - val_mae: 0.7195\n",
      "Epoch 34/100\n",
      "8540/8540 [==============================] - 1s 69us/sample - loss: 0.3945 - mae: 0.4720 - val_loss: 0.9983 - val_mae: 0.7187\n",
      "Epoch 35/100\n",
      "8540/8540 [==============================] - 1s 69us/sample - loss: 0.3836 - mae: 0.4698 - val_loss: 0.9864 - val_mae: 0.7136\n",
      "Epoch 36/100\n",
      "8540/8540 [==============================] - 1s 70us/sample - loss: 0.3824 - mae: 0.4689 - val_loss: 1.0071 - val_mae: 0.7183\n",
      "Epoch 37/100\n",
      "8540/8540 [==============================] - 1s 67us/sample - loss: 0.3754 - mae: 0.4641 - val_loss: 1.0156 - val_mae: 0.7207\n",
      "Epoch 38/100\n",
      "8540/8540 [==============================] - 1s 72us/sample - loss: 0.3676 - mae: 0.4582 - val_loss: 1.0420 - val_mae: 0.7366\n",
      "Epoch 39/100\n",
      "8540/8540 [==============================] - 1s 68us/sample - loss: 0.3649 - mae: 0.4586 - val_loss: 1.0204 - val_mae: 0.7249\n",
      "Epoch 40/100\n",
      "8540/8540 [==============================] - 1s 69us/sample - loss: 0.3568 - mae: 0.4524 - val_loss: 1.0438 - val_mae: 0.7301\n",
      "Epoch 41/100\n",
      "8540/8540 [==============================] - 1s 69us/sample - loss: 0.3538 - mae: 0.4503 - val_loss: 1.0359 - val_mae: 0.7317\n",
      "Epoch 42/100\n",
      "8540/8540 [==============================] - 1s 67us/sample - loss: 0.3459 - mae: 0.4445 - val_loss: 1.0465 - val_mae: 0.7380\n",
      "Epoch 43/100\n",
      "8540/8540 [==============================] - 1s 69us/sample - loss: 0.3427 - mae: 0.4434 - val_loss: 1.0390 - val_mae: 0.7272\n",
      "Epoch 44/100\n",
      "8540/8540 [==============================] - 1s 68us/sample - loss: 0.3396 - mae: 0.4414 - val_loss: 1.0429 - val_mae: 0.7253\n",
      "Epoch 45/100\n",
      "8540/8540 [==============================] - 1s 67us/sample - loss: 0.3343 - mae: 0.4378 - val_loss: 1.0573 - val_mae: 0.7452\n",
      "Epoch 46/100\n",
      "8540/8540 [==============================] - 1s 68us/sample - loss: 0.3300 - mae: 0.4346 - val_loss: 1.0597 - val_mae: 0.7387\n",
      "Epoch 47/100\n",
      "8540/8540 [==============================] - 1s 67us/sample - loss: 0.3267 - mae: 0.4317 - val_loss: 1.1172 - val_mae: 0.7607\n",
      "Epoch 48/100\n",
      "8540/8540 [==============================] - 1s 68us/sample - loss: 0.3234 - mae: 0.4291 - val_loss: 1.0470 - val_mae: 0.7271\n",
      "Epoch 49/100\n",
      "8540/8540 [==============================] - 1s 68us/sample - loss: 0.3212 - mae: 0.4285 - val_loss: 1.0573 - val_mae: 0.7346\n",
      "Epoch 50/100\n",
      "8540/8540 [==============================] - 1s 68us/sample - loss: 0.3169 - mae: 0.4249 - val_loss: 1.0738 - val_mae: 0.7449\n",
      "Epoch 51/100\n",
      "8540/8540 [==============================] - 1s 70us/sample - loss: 0.3140 - mae: 0.4228 - val_loss: 1.0673 - val_mae: 0.7410\n",
      "Epoch 52/100\n",
      "8540/8540 [==============================] - 1s 75us/sample - loss: 0.3093 - mae: 0.4195 - val_loss: 1.0652 - val_mae: 0.7331\n",
      "Epoch 53/100\n",
      "8540/8540 [==============================] - 1s 68us/sample - loss: 0.3066 - mae: 0.4184 - val_loss: 1.0706 - val_mae: 0.7397\n",
      "Epoch 54/100\n",
      "8540/8540 [==============================] - 1s 68us/sample - loss: 0.3043 - mae: 0.4164 - val_loss: 1.0885 - val_mae: 0.7419\n",
      "Epoch 55/100\n",
      "8540/8540 [==============================] - 1s 69us/sample - loss: 0.3017 - mae: 0.4125 - val_loss: 1.0756 - val_mae: 0.7401\n",
      "Epoch 56/100\n",
      "8540/8540 [==============================] - 1s 68us/sample - loss: 0.2976 - mae: 0.4109 - val_loss: 1.0817 - val_mae: 0.7440\n",
      "Epoch 57/100\n",
      "8540/8540 [==============================] - 1s 69us/sample - loss: 0.2945 - mae: 0.4106 - val_loss: 1.0812 - val_mae: 0.7468\n",
      "Epoch 58/100\n",
      "8540/8540 [==============================] - 1s 67us/sample - loss: 0.2938 - mae: 0.4090 - val_loss: 1.0852 - val_mae: 0.7450\n",
      "Epoch 59/100\n"
     ]
    },
    {
     "name": "stdout",
     "output_type": "stream",
     "text": [
      "8540/8540 [==============================] - 1s 67us/sample - loss: 0.2921 - mae: 0.4068 - val_loss: 1.1158 - val_mae: 0.7494\n",
      "Epoch 60/100\n",
      "8540/8540 [==============================] - 1s 68us/sample - loss: 0.2901 - mae: 0.4058 - val_loss: 1.1055 - val_mae: 0.7507\n",
      "Epoch 61/100\n",
      "8540/8540 [==============================] - 1s 67us/sample - loss: 0.2873 - mae: 0.4044 - val_loss: 1.1153 - val_mae: 0.7476\n",
      "Epoch 62/100\n",
      "8540/8540 [==============================] - 1s 68us/sample - loss: 0.2855 - mae: 0.4059 - val_loss: 1.1285 - val_mae: 0.7596\n",
      "Epoch 63/100\n",
      "8540/8540 [==============================] - 1s 67us/sample - loss: 0.2804 - mae: 0.3992 - val_loss: 1.1119 - val_mae: 0.7481\n",
      "Epoch 64/100\n",
      "8540/8540 [==============================] - 1s 68us/sample - loss: 0.2795 - mae: 0.3989 - val_loss: 1.1111 - val_mae: 0.7530\n",
      "Epoch 65/100\n",
      "8540/8540 [==============================] - 1s 68us/sample - loss: 0.2780 - mae: 0.3978 - val_loss: 1.0958 - val_mae: 0.7443\n",
      "Epoch 66/100\n",
      "8540/8540 [==============================] - 1s 70us/sample - loss: 0.2760 - mae: 0.3959 - val_loss: 1.1138 - val_mae: 0.7492\n",
      "Epoch 67/100\n",
      "8540/8540 [==============================] - 1s 79us/sample - loss: 0.2736 - mae: 0.3931 - val_loss: 1.1086 - val_mae: 0.7520\n",
      "Epoch 68/100\n",
      "8540/8540 [==============================] - 1s 96us/sample - loss: 0.2706 - mae: 0.3909 - val_loss: 1.1243 - val_mae: 0.7529\n",
      "Epoch 69/100\n",
      "8540/8540 [==============================] - 1s 90us/sample - loss: 0.2700 - mae: 0.3909 - val_loss: 1.1120 - val_mae: 0.7524\n",
      "Epoch 70/100\n",
      "8540/8540 [==============================] - 1s 86us/sample - loss: 0.2669 - mae: 0.3886 - val_loss: 1.1294 - val_mae: 0.7535\n",
      "Epoch 71/100\n",
      "8540/8540 [==============================] - 1s 95us/sample - loss: 0.2658 - mae: 0.3866 - val_loss: 1.1397 - val_mae: 0.7568\n",
      "Epoch 72/100\n",
      "8540/8540 [==============================] - 1s 90us/sample - loss: 0.2634 - mae: 0.3860 - val_loss: 1.1543 - val_mae: 0.7670\n",
      "Epoch 73/100\n",
      "8540/8540 [==============================] - 1s 92us/sample - loss: 0.2641 - mae: 0.3855 - val_loss: 1.1259 - val_mae: 0.7511\n",
      "Epoch 74/100\n",
      "8540/8540 [==============================] - 1s 75us/sample - loss: 0.2594 - mae: 0.3816 - val_loss: 1.1484 - val_mae: 0.7621\n",
      "Epoch 75/100\n",
      "8540/8540 [==============================] - 1s 87us/sample - loss: 0.2596 - mae: 0.3828 - val_loss: 1.1371 - val_mae: 0.7575\n",
      "Epoch 76/100\n",
      "8540/8540 [==============================] - 1s 82us/sample - loss: 0.2585 - mae: 0.3807 - val_loss: 1.1391 - val_mae: 0.7585\n",
      "Epoch 77/100\n",
      "8540/8540 [==============================] - 1s 84us/sample - loss: 0.2573 - mae: 0.3808 - val_loss: 1.1467 - val_mae: 0.7599\n",
      "Epoch 78/100\n",
      "8540/8540 [==============================] - 1s 97us/sample - loss: 0.2528 - mae: 0.3781 - val_loss: 1.1597 - val_mae: 0.7661\n",
      "Epoch 79/100\n",
      "8540/8540 [==============================] - 1s 103us/sample - loss: 0.2531 - mae: 0.3790 - val_loss: 1.1720 - val_mae: 0.7692\n",
      "Epoch 80/100\n",
      "8540/8540 [==============================] - 1s 108us/sample - loss: 0.2491 - mae: 0.3749 - val_loss: 1.1481 - val_mae: 0.7603\n",
      "Epoch 81/100\n",
      "8540/8540 [==============================] - 1s 117us/sample - loss: 0.2512 - mae: 0.3754 - val_loss: 1.1346 - val_mae: 0.7551\n",
      "Epoch 82/100\n",
      "8540/8540 [==============================] - 1s 111us/sample - loss: 0.2463 - mae: 0.3742 - val_loss: 1.1365 - val_mae: 0.7566\n",
      "Epoch 83/100\n",
      "8540/8540 [==============================] - 1s 115us/sample - loss: 0.2484 - mae: 0.3740 - val_loss: 1.1400 - val_mae: 0.7591\n",
      "Epoch 84/100\n",
      "8540/8540 [==============================] - 1s 116us/sample - loss: 0.2447 - mae: 0.3701 - val_loss: 1.1495 - val_mae: 0.7589\n",
      "Epoch 85/100\n",
      "8540/8540 [==============================] - 1s 112us/sample - loss: 0.2426 - mae: 0.3692 - val_loss: 1.1701 - val_mae: 0.7715\n",
      "Epoch 86/100\n",
      "8540/8540 [==============================] - 1s 117us/sample - loss: 0.2419 - mae: 0.3698 - val_loss: 1.1537 - val_mae: 0.7617\n",
      "Epoch 87/100\n",
      "8540/8540 [==============================] - 1s 107us/sample - loss: 0.2400 - mae: 0.3671 - val_loss: 1.1469 - val_mae: 0.7609\n",
      "Epoch 88/100\n",
      "8540/8540 [==============================] - 1s 106us/sample - loss: 0.2377 - mae: 0.3663 - val_loss: 1.1620 - val_mae: 0.7651\n",
      "Epoch 89/100\n",
      "8540/8540 [==============================] - 1s 94us/sample - loss: 0.2363 - mae: 0.3652 - val_loss: 1.1831 - val_mae: 0.7689\n",
      "Epoch 90/100\n",
      "8540/8540 [==============================] - 1s 96us/sample - loss: 0.2371 - mae: 0.3649 - val_loss: 1.1603 - val_mae: 0.7653\n",
      "Epoch 91/100\n",
      "8540/8540 [==============================] - 1s 91us/sample - loss: 0.2345 - mae: 0.3634 - val_loss: 1.1755 - val_mae: 0.7676\n",
      "Epoch 92/100\n",
      "8540/8540 [==============================] - 1s 80us/sample - loss: 0.2320 - mae: 0.3622 - val_loss: 1.1843 - val_mae: 0.7736\n",
      "Epoch 93/100\n",
      "8540/8540 [==============================] - 1s 72us/sample - loss: 0.2314 - mae: 0.3610 - val_loss: 1.1941 - val_mae: 0.7733\n",
      "Epoch 94/100\n",
      "8540/8540 [==============================] - 1s 70us/sample - loss: 0.2329 - mae: 0.3627 - val_loss: 1.1720 - val_mae: 0.7713\n",
      "Epoch 95/100\n",
      "8540/8540 [==============================] - 1s 80us/sample - loss: 0.2300 - mae: 0.3609 - val_loss: 1.1812 - val_mae: 0.7691\n",
      "Epoch 96/100\n",
      "8540/8540 [==============================] - 1s 77us/sample - loss: 0.2300 - mae: 0.3599 - val_loss: 1.1880 - val_mae: 0.7765\n",
      "Epoch 97/100\n",
      "8540/8540 [==============================] - 1s 84us/sample - loss: 0.2268 - mae: 0.3563 - val_loss: 1.2143 - val_mae: 0.7870\n",
      "Epoch 98/100\n",
      "8540/8540 [==============================] - 1s 74us/sample - loss: 0.2256 - mae: 0.3572 - val_loss: 1.1987 - val_mae: 0.7772\n",
      "Epoch 99/100\n",
      "8540/8540 [==============================] - 1s 67us/sample - loss: 0.2248 - mae: 0.3563 - val_loss: 1.1949 - val_mae: 0.7772\n",
      "Epoch 100/100\n",
      "8540/8540 [==============================] - 1s 70us/sample - loss: 0.2245 - mae: 0.3560 - val_loss: 1.1875 - val_mae: 0.7731\n"
     ]
    }
   ],
   "source": [
    "history = model.fit(partial_x_train, partial_y_train, epochs=100, batch_size=16, validation_data=(x_val, y_val))"
   ]
  },
  {
   "cell_type": "code",
   "execution_count": 22,
   "metadata": {},
   "outputs": [
    {
     "data": {
      "text/plain": [
       "dict_keys(['loss', 'mae', 'val_loss', 'val_mae'])"
      ]
     },
     "execution_count": 22,
     "metadata": {},
     "output_type": "execute_result"
    }
   ],
   "source": [
    "history_dict = history.history\n",
    "history_dict.keys()"
   ]
  },
  {
   "cell_type": "code",
   "execution_count": 23,
   "metadata": {},
   "outputs": [
    {
     "data": {
      "image/png": "[encoded data removed]",
      "text/plain": [
       "<Figure size 432x288 with 1 Axes>"
      ]
     },
     "metadata": {
      "needs_background": "light"
     },
     "output_type": "display_data"
    }
   ],
   "source": [
    "history_dict = history.history\n",
    "loss_values = history_dict['loss']\n",
    "val_loss_values = history_dict['val_loss']\n",
    "epochs = range(1, 100 + 1)\n",
    "plt.plot(epochs, loss_values, 'bo', label='Training loss')\n",
    "plt.plot(epochs, val_loss_values, 'b', label='Validation loss')\n",
    "plt.title('Training and validation loss')\n",
    "plt.xlabel('Epochs')\n",
    "plt.ylabel('Loss')\n",
    "plt.legend()\n",
    "plt.show()"
   ]
  },
  {
   "cell_type": "code",
   "execution_count": 24,
   "metadata": {},
   "outputs": [
    {
     "data": {
      "text/plain": [
       "{'loss': [2.1665919524724364,\n",
       "  1.3224629512157038,\n",
       "  1.2134397709676756,\n",
       "  1.1568035014200546,\n",
       "  1.1065286764495545,\n",
       "  1.049959183520958,\n",
       "  0.993241471652404,\n",
       "  0.9438174945409181,\n",
       "  0.9003106483251764,\n",
       "  0.8478416479722677,\n",
       "  0.8158023624704929,\n",
       "  0.7774433298049542,\n",
       "  0.7450513132562123,\n",
       "  0.7120843802179609,\n",
       "  0.6841047681466756,\n",
       "  0.6538585027291568,\n",
       "  0.6292588291877327,\n",
       "  0.6078321443369015,\n",
       "  0.5841418895006738,\n",
       "  0.570262077178553,\n",
       "  0.5456496796228288,\n",
       "  0.5321750558651024,\n",
       "  0.5175957250930108,\n",
       "  0.49960877811601623,\n",
       "  0.4873542509257654,\n",
       "  0.4741575868822093,\n",
       "  0.4620701903342084,\n",
       "  0.44867662970299466,\n",
       "  0.43845967129745306,\n",
       "  0.4254234908057041,\n",
       "  0.418146363148505,\n",
       "  0.41030419022193837,\n",
       "  0.402012371332919,\n",
       "  0.3945167591895655,\n",
       "  0.3835977492622804,\n",
       "  0.3824017925829184,\n",
       "  0.37537769994914394,\n",
       "  0.36757615607851285,\n",
       "  0.3649349843590265,\n",
       "  0.35681355231260525,\n",
       "  0.35379614358554123,\n",
       "  0.345875514788985,\n",
       "  0.3426666192902335,\n",
       "  0.339586405955098,\n",
       "  0.3343365669948435,\n",
       "  0.32999290453326785,\n",
       "  0.32666474416049357,\n",
       "  0.32338002866408866,\n",
       "  0.3212135346767774,\n",
       "  0.31688296241419656,\n",
       "  0.31400093681918373,\n",
       "  0.3093257652303374,\n",
       "  0.30659343195464067,\n",
       "  0.30432299879451546,\n",
       "  0.301655438647058,\n",
       "  0.29761286497953626,\n",
       "  0.29449490902714204,\n",
       "  0.29376730373787935,\n",
       "  0.2921172696198457,\n",
       "  0.29013975501339667,\n",
       "  0.28725265480874573,\n",
       "  0.28546859034330563,\n",
       "  0.28039395501379105,\n",
       "  0.2794830775791365,\n",
       "  0.27799871167477735,\n",
       "  0.27595828310248444,\n",
       "  0.2736282404189367,\n",
       "  0.2706229182121625,\n",
       "  0.26999062627763326,\n",
       "  0.26688072139820396,\n",
       "  0.26576032895394175,\n",
       "  0.26340727295194355,\n",
       "  0.2641327639513887,\n",
       "  0.25941184499503855,\n",
       "  0.25962190653177836,\n",
       "  0.2584558446736749,\n",
       "  0.25727670399310715,\n",
       "  0.2528151342265779,\n",
       "  0.25306007552900694,\n",
       "  0.2491041005879152,\n",
       "  0.2511525620411933,\n",
       "  0.24625693809511512,\n",
       "  0.24835263672840957,\n",
       "  0.2447409763408768,\n",
       "  0.2426373033075478,\n",
       "  0.24185430859793544,\n",
       "  0.23998190190390067,\n",
       "  0.23773173121713642,\n",
       "  0.23630429344378254,\n",
       "  0.23705358371941213,\n",
       "  0.23447347807521285,\n",
       "  0.2320426978676883,\n",
       "  0.23140797858634654,\n",
       "  0.2328915863042693,\n",
       "  0.2299879986173375,\n",
       "  0.23002343634950473,\n",
       "  0.2267567544617195,\n",
       "  0.2256328382104007,\n",
       "  0.22484836699113914,\n",
       "  0.22452732517233498],\n",
       " 'mae': [1.0894887,\n",
       "  0.8344081,\n",
       "  0.8049658,\n",
       "  0.78695077,\n",
       "  0.7682967,\n",
       "  0.75073963,\n",
       "  0.73443216,\n",
       "  0.7186379,\n",
       "  0.7015334,\n",
       "  0.68196946,\n",
       "  0.66977733,\n",
       "  0.6559333,\n",
       "  0.64092124,\n",
       "  0.62439334,\n",
       "  0.61498916,\n",
       "  0.6004876,\n",
       "  0.58950055,\n",
       "  0.57832855,\n",
       "  0.5681337,\n",
       "  0.56208736,\n",
       "  0.5532232,\n",
       "  0.5455627,\n",
       "  0.5379701,\n",
       "  0.52965057,\n",
       "  0.5227382,\n",
       "  0.5191736,\n",
       "  0.510346,\n",
       "  0.5057633,\n",
       "  0.5004014,\n",
       "  0.49218145,\n",
       "  0.4891383,\n",
       "  0.48510256,\n",
       "  0.48029009,\n",
       "  0.47204685,\n",
       "  0.4697626,\n",
       "  0.46886644,\n",
       "  0.46411377,\n",
       "  0.45823187,\n",
       "  0.45859602,\n",
       "  0.4524362,\n",
       "  0.45025396,\n",
       "  0.44450593,\n",
       "  0.4433692,\n",
       "  0.4414242,\n",
       "  0.43779978,\n",
       "  0.43463403,\n",
       "  0.4317045,\n",
       "  0.42914164,\n",
       "  0.42851084,\n",
       "  0.4248926,\n",
       "  0.42284012,\n",
       "  0.41946915,\n",
       "  0.4184426,\n",
       "  0.4163633,\n",
       "  0.41247496,\n",
       "  0.41086462,\n",
       "  0.41059363,\n",
       "  0.40898684,\n",
       "  0.40681306,\n",
       "  0.4057878,\n",
       "  0.4044011,\n",
       "  0.40591958,\n",
       "  0.39920714,\n",
       "  0.3988952,\n",
       "  0.3977959,\n",
       "  0.39586398,\n",
       "  0.39312103,\n",
       "  0.39085373,\n",
       "  0.3909281,\n",
       "  0.38860723,\n",
       "  0.3865505,\n",
       "  0.38601097,\n",
       "  0.385463,\n",
       "  0.38164398,\n",
       "  0.3828238,\n",
       "  0.38071364,\n",
       "  0.3807661,\n",
       "  0.37814513,\n",
       "  0.37899068,\n",
       "  0.37485936,\n",
       "  0.37537807,\n",
       "  0.3742143,\n",
       "  0.37400618,\n",
       "  0.37006754,\n",
       "  0.36921614,\n",
       "  0.36978033,\n",
       "  0.36711046,\n",
       "  0.36634955,\n",
       "  0.3651788,\n",
       "  0.36492544,\n",
       "  0.36337292,\n",
       "  0.3622414,\n",
       "  0.36098078,\n",
       "  0.36271706,\n",
       "  0.36094916,\n",
       "  0.35991195,\n",
       "  0.35630685,\n",
       "  0.35720116,\n",
       "  0.35629034,\n",
       "  0.35597387],\n",
       " 'val_loss': [1.398798382793154,\n",
       "  1.2317375695705415,\n",
       "  1.195032503264291,\n",
       "  1.125259679896491,\n",
       "  1.1019887575081417,\n",
       "  1.0616748251233783,\n",
       "  1.0289096069335937,\n",
       "  1.0397119086129325,\n",
       "  1.0093339840003421,\n",
       "  1.0018050998449326,\n",
       "  0.9814083792482103,\n",
       "  0.9686241745097297,\n",
       "  0.9635102019991193,\n",
       "  0.9611904469558171,\n",
       "  0.9560582475151335,\n",
       "  0.954574908869607,\n",
       "  1.017424203157425,\n",
       "  0.9604309403896332,\n",
       "  0.9562637880870274,\n",
       "  0.9428669791562216,\n",
       "  1.089871380329132,\n",
       "  0.9433354641710009,\n",
       "  0.9394439586571285,\n",
       "  0.9525893495764051,\n",
       "  0.9504567166737148,\n",
       "  0.9867849185637065,\n",
       "  0.9900445742266518,\n",
       "  0.9679878256150655,\n",
       "  0.9870945336988994,\n",
       "  0.9769742235967092,\n",
       "  0.9788944397653853,\n",
       "  1.0082274352652687,\n",
       "  0.988052316904068,\n",
       "  0.9983321498973029,\n",
       "  0.9864415368863515,\n",
       "  1.0071314724854061,\n",
       "  1.0156066615240915,\n",
       "  1.0420334436212266,\n",
       "  1.0203877939496722,\n",
       "  1.0438484755584172,\n",
       "  1.0358969024249485,\n",
       "  1.0465136071613856,\n",
       "  1.039036113023758,\n",
       "  1.0429036111491068,\n",
       "  1.057349389238017,\n",
       "  1.0597371794496264,\n",
       "  1.1171668807097843,\n",
       "  1.0470146448271616,\n",
       "  1.057327104466302,\n",
       "  1.0737657902070454,\n",
       "  1.0672867589337485,\n",
       "  1.065162559236799,\n",
       "  1.0706259969302585,\n",
       "  1.0885496691295078,\n",
       "  1.0756026782308306,\n",
       "  1.081704470344952,\n",
       "  1.0812470588513783,\n",
       "  1.0851817682811191,\n",
       "  1.1157662887232644,\n",
       "  1.105512878383909,\n",
       "  1.1152973501171384,\n",
       "  1.1284685817786626,\n",
       "  1.1119412113939013,\n",
       "  1.1110704662970134,\n",
       "  1.0957731192452567,\n",
       "  1.1137885746785572,\n",
       "  1.1086038125412805,\n",
       "  1.124324961900711,\n",
       "  1.1119821715354918,\n",
       "  1.1293918185574667,\n",
       "  1.139692462001528,\n",
       "  1.1542533299752644,\n",
       "  1.1258992092098508,\n",
       "  1.1483659298079354,\n",
       "  1.1370836387361798,\n",
       "  1.1391337249960218,\n",
       "  1.1466572827952248,\n",
       "  1.1596643328666687,\n",
       "  1.171979911157063,\n",
       "  1.1480724273409162,\n",
       "  1.1346467794690813,\n",
       "  1.1364504771573203,\n",
       "  1.1400163779939925,\n",
       "  1.1494683238438197,\n",
       "  1.170140631028584,\n",
       "  1.1537355159861702,\n",
       "  1.146897698725973,\n",
       "  1.1619557866028376,\n",
       "  1.183086975642613,\n",
       "  1.160267569252423,\n",
       "  1.175538548231125,\n",
       "  1.1842704245448112,\n",
       "  1.1941091821874892,\n",
       "  1.171961789216314,\n",
       "  1.1811694300174713,\n",
       "  1.1879870424951826,\n",
       "  1.2143456659998213,\n",
       "  1.1987323805264065,\n",
       "  1.1948576850550516,\n",
       "  1.1875491763864245],\n",
       " 'val_mae': [0.87226605,\n",
       "  0.8272019,\n",
       "  0.8142112,\n",
       "  0.7887281,\n",
       "  0.78055125,\n",
       "  0.7674808,\n",
       "  0.75287545,\n",
       "  0.7602996,\n",
       "  0.7444259,\n",
       "  0.7426926,\n",
       "  0.73095953,\n",
       "  0.7247437,\n",
       "  0.72259116,\n",
       "  0.71980166,\n",
       "  0.71418667,\n",
       "  0.7151955,\n",
       "  0.7499578,\n",
       "  0.715484,\n",
       "  0.71228147,\n",
       "  0.7110875,\n",
       "  0.7808602,\n",
       "  0.70414954,\n",
       "  0.70567316,\n",
       "  0.7066286,\n",
       "  0.70971787,\n",
       "  0.72407,\n",
       "  0.7320412,\n",
       "  0.7124145,\n",
       "  0.72249985,\n",
       "  0.71075684,\n",
       "  0.7124687,\n",
       "  0.7303292,\n",
       "  0.71954423,\n",
       "  0.71874195,\n",
       "  0.71356577,\n",
       "  0.71830654,\n",
       "  0.7206658,\n",
       "  0.7366048,\n",
       "  0.72485936,\n",
       "  0.7301073,\n",
       "  0.731703,\n",
       "  0.7380335,\n",
       "  0.72721523,\n",
       "  0.7253313,\n",
       "  0.74516076,\n",
       "  0.7387241,\n",
       "  0.7607204,\n",
       "  0.727126,\n",
       "  0.73463887,\n",
       "  0.7448853,\n",
       "  0.7410466,\n",
       "  0.7330706,\n",
       "  0.7396935,\n",
       "  0.74189246,\n",
       "  0.74010044,\n",
       "  0.7440082,\n",
       "  0.74678797,\n",
       "  0.7449963,\n",
       "  0.74940383,\n",
       "  0.7506821,\n",
       "  0.74758077,\n",
       "  0.7595608,\n",
       "  0.74812675,\n",
       "  0.75297564,\n",
       "  0.7442832,\n",
       "  0.7492305,\n",
       "  0.75200325,\n",
       "  0.7528635,\n",
       "  0.7524017,\n",
       "  0.7535016,\n",
       "  0.7568139,\n",
       "  0.7670486,\n",
       "  0.75105625,\n",
       "  0.76207477,\n",
       "  0.7574987,\n",
       "  0.75851005,\n",
       "  0.7599137,\n",
       "  0.76608074,\n",
       "  0.76924676,\n",
       "  0.7602785,\n",
       "  0.7551379,\n",
       "  0.7566236,\n",
       "  0.7591084,\n",
       "  0.7589371,\n",
       "  0.7714516,\n",
       "  0.76169646,\n",
       "  0.76087636,\n",
       "  0.76506925,\n",
       "  0.76893425,\n",
       "  0.7653045,\n",
       "  0.7676006,\n",
       "  0.7736172,\n",
       "  0.7733367,\n",
       "  0.77125007,\n",
       "  0.76910913,\n",
       "  0.7764787,\n",
       "  0.78698677,\n",
       "  0.77720606,\n",
       "  0.77715635,\n",
       "  0.7730975]}"
      ]
     },
     "execution_count": 24,
     "metadata": {},
     "output_type": "execute_result"
    }
   ],
   "source": [
    "history.history"
   ]
  },
  {
   "cell_type": "code",
   "execution_count": 35,
   "metadata": {},
   "outputs": [
    {
     "data": {
      "image/png": "[encoded data removed]",
      "text/plain": [
       "<Figure size 432x288 with 1 Axes>"
      ]
     },
     "metadata": {
      "needs_background": "light"
     },
     "output_type": "display_data"
    }
   ],
   "source": [
    "plt.clf()\n",
    "mae_values = history_dict['mae']\n",
    "val_mae_values = history_dict['val_mae']\n",
    "plt.plot(epochs, mae_values, 'bo', label='Training mae')\n",
    "plt.plot(epochs, val_mae_values, 'b', label='Validation mae')\n",
    "plt.title('Training and validation mean absolute error')\n",
    "plt.xlabel('Epochs')\n",
    "plt.ylabel('mae')\n",
    "plt.legend()\n",
    "plt.show()"
   ]
  },
  {
   "cell_type": "markdown",
   "metadata": {},
   "source": [
    "### Retrain Model with Tuned Epoch"
   ]
  },
  {
   "cell_type": "markdown",
   "metadata": {},
   "source": [
    "Epoch was set to 16, as it was the point before the validation scores started to get unstable and started to increase"
   ]
  },
  {
   "cell_type": "code",
   "execution_count": 26,
   "metadata": {},
   "outputs": [
    {
     "name": "stdout",
     "output_type": "stream",
     "text": [
      "Epoch 1/16\n",
      "11340/11340 [==============================] - 1s 64us/sample - loss: 1.9365 - mae: 1.0260\n",
      "Epoch 2/16\n",
      "11340/11340 [==============================] - 1s 70us/sample - loss: 1.2535 - mae: 0.8172\n",
      "Epoch 3/16\n",
      "11340/11340 [==============================] - 1s 80us/sample - loss: 1.1745 - mae: 0.7941\n",
      "Epoch 4/16\n",
      "11340/11340 [==============================] - 1s 81us/sample - loss: 1.1234 - mae: 0.7781\n",
      "Epoch 5/16\n",
      "11340/11340 [==============================] - 1s 76us/sample - loss: 1.0643 - mae: 0.7581\n",
      "Epoch 6/16\n",
      "11340/11340 [==============================] - 1s 72us/sample - loss: 1.0067 - mae: 0.7399\n",
      "Epoch 7/16\n",
      "11340/11340 [==============================] - 1s 70us/sample - loss: 0.9471 - mae: 0.7211\n",
      "Epoch 8/16\n",
      "11340/11340 [==============================] - 1s 69us/sample - loss: 0.8953 - mae: 0.7021\n",
      "Epoch 9/16\n",
      "11340/11340 [==============================] - 1s 61us/sample - loss: 0.8474 - mae: 0.6827\n",
      "Epoch 10/16\n",
      "11340/11340 [==============================] - 1s 69us/sample - loss: 0.8019 - mae: 0.6661\n",
      "Epoch 11/16\n",
      "11340/11340 [==============================] - 1s 62us/sample - loss: 0.7603 - mae: 0.6482\n",
      "Epoch 12/16\n",
      "11340/11340 [==============================] - 1s 76us/sample - loss: 0.7223 - mae: 0.6331\n",
      "Epoch 13/16\n",
      "11340/11340 [==============================] - 1s 89us/sample - loss: 0.6849 - mae: 0.6172\n",
      "Epoch 14/16\n",
      "11340/11340 [==============================] - 1s 72us/sample - loss: 0.6531 - mae: 0.6018\n",
      "Epoch 15/16\n",
      "11340/11340 [==============================] - 1s 78us/sample - loss: 0.6206 - mae: 0.5885\n",
      "Epoch 16/16\n",
      "11340/11340 [==============================] - 1s 60us/sample - loss: 0.5907 - mae: 0.5735\n"
     ]
    }
   ],
   "source": [
    "model = keras.Sequential()\n",
    "model.add(keras.layers.Embedding(embedding_size, 8, input_length=maxlen))\n",
    "model.add(keras.layers.Flatten())\n",
    "model.add(keras.layers.Dense(16, activation='relu'))\n",
    "model.add(keras.layers.Dense(1))\n",
    "model.compile(optimizer='rmsprop', loss='mse', metrics=['mae'])\n",
    "\n",
    "history = model.fit(x_train, y_train, epochs=16, batch_size=16)"
   ]
  },
  {
   "cell_type": "markdown",
   "metadata": {},
   "source": [
    "### Evaluate Model"
   ]
  },
  {
   "cell_type": "code",
   "execution_count": 27,
   "metadata": {},
   "outputs": [
    {
     "name": "stdout",
     "output_type": "stream",
     "text": [
      "2836/2836 [==============================] - 0s 29us/sample - loss: 0.8902 - mae: 0.6964\n"
     ]
    }
   ],
   "source": [
    "test_mse_score, test_mae_score = model.evaluate(x_test, y_test)"
   ]
  },
  {
   "cell_type": "code",
   "execution_count": 28,
   "metadata": {},
   "outputs": [
    {
     "data": {
      "text/plain": [
       "0.890178537335147"
      ]
     },
     "execution_count": 28,
     "metadata": {},
     "output_type": "execute_result"
    }
   ],
   "source": [
    "test_mse_score"
   ]
  },
  {
   "cell_type": "code",
   "execution_count": 29,
   "metadata": {},
   "outputs": [
    {
     "data": {
      "text/plain": [
       "0.69637483"
      ]
     },
     "execution_count": 29,
     "metadata": {},
     "output_type": "execute_result"
    }
   ],
   "source": [
    "test_mae_score"
   ]
  },
  {
   "cell_type": "code",
   "execution_count": 30,
   "metadata": {},
   "outputs": [
    {
     "data": {
      "text/plain": [
       "11.29"
      ]
     },
     "execution_count": 30,
     "metadata": {},
     "output_type": "execute_result"
    }
   ],
   "source": [
    "smiles_df['Kow'].max()"
   ]
  },
  {
   "cell_type": "code",
   "execution_count": 31,
   "metadata": {},
   "outputs": [
    {
     "data": {
      "text/plain": [
       "-5.4"
      ]
     },
     "execution_count": 31,
     "metadata": {},
     "output_type": "execute_result"
    }
   ],
   "source": [
    "smiles_df['Kow'].min()"
   ]
  },
  {
   "cell_type": "code",
   "execution_count": 32,
   "metadata": {},
   "outputs": [],
   "source": [
    "# error size is about +/- 4%"
   ]
  },
  {
   "cell_type": "code",
   "execution_count": 33,
   "metadata": {},
   "outputs": [
    {
     "data": {
      "text/plain": [
       "array([[-1.3570011]], dtype=float32)"
      ]
     },
     "execution_count": 33,
     "metadata": {},
     "output_type": "execute_result"
    }
   ],
   "source": [
    "model.predict(x_test[70:71])"
   ]
  },
  {
   "cell_type": "code",
   "execution_count": 34,
   "metadata": {},
   "outputs": [
    {
     "data": {
      "text/plain": [
       "-2.1"
      ]
     },
     "execution_count": 34,
     "metadata": {},
     "output_type": "execute_result"
    }
   ],
   "source": [
    "y_test.iloc[70]"
   ]
  }
 ],
 "metadata": {
  "kernelspec": {
   "display_name": "Python 3",
   "language": "python",
   "name": "python3"
  },
  "language_info": {
   "codemirror_mode": {
    "name": "ipython",
    "version": 3
   },
   "file_extension": ".py",
   "mimetype": "text/x-python",
   "name": "python",
   "nbconvert_exporter": "python",
   "pygments_lexer": "ipython3",
   "version": "3.6.8"
  }
 },
 "nbformat": 4,
 "nbformat_minor": 2
}
